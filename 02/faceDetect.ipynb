{
 "cells": [
  {
   "cell_type": "code",
   "execution_count": null,
   "metadata": {},
   "outputs": [],
   "source": [
    "import cv2\n",
    "import numpy as np\n",
    "import os\n",
    "\n",
    "face_cascade = cv2.CascadeClassifier('C:\\Program Files\\Anaconda3\\pkgs\\opencv3-3.1.0-py35_0\\Library\\etc\\haarcascades\\haarcascade_frontalface_alt2_16layers.xml')\n",
    "eye_cascade = cv2.CascadeClassifier('C:\\Program Files\\Anaconda3\\pkgs\\opencv3-3.1.0-py35_0\\Library\\etc\\haarcascades\\haarcascade_eye.xml')\n",
    "\n",
    "dirs = ['Dataset/yawnFace', 'Dataset/normalFace']"
   ]
  },
  {
   "cell_type": "code",
   "execution_count": null,
   "metadata": {},
   "outputs": [],
   "source": [
    "def detectFaces():\n",
    "    pos = 0\n",
    "    for dir in dirs:\n",
    "        cnt = 0\n",
    "        facecnt = 0\n",
    "        for filename in os.listdir(dir):\n",
    "            if filename.endswith('.png'):\n",
    "                im = cv2.imread(dir + '/' + filename)\n",
    "                gray = cv2.cvtColor(im, cv2.COLOR_BGR2GRAY)\n",
    "                #gray = gray[:, 120:gray.shape[1]-80]\n",
    "                #gray = cv2.equalizeHist(gray)\n",
    "                #gray = cv2.resize(gray, (0, 0), fx=0.5, fy=0.5)\n",
    "                # cv2.imshow('edge', edges)\n",
    "                # cv2.imshow('s', gray)\n",
    "                flag = 0\n",
    "                # cv2.imshow('x', im)\n",
    "                # cv2.waitKey(0)\n",
    "                faces = face_cascade.detectMultiScale(gray, 1.01, 5, minSize=(60, 60))\n",
    "                cnt += 1\n",
    "                for (x, y, w, h) in faces:\n",
    "                    if w < 150 or h < 150:\n",
    "                        continue\n",
    "                    flag = 1\n",
    "                    facecnt += 1\n",
    "                    cv2.rectangle(im, (x, y), (x + w, y + h), (255, 0, 0), 2)\n",
    "                    eyePos = []\n",
    "                    roi_gray = gray[y-10:y + h + 10, x - 10:x + w + 10]\n",
    "                    roi_color = im[y:y + h, x:x + w]\n",
    "                    cv2.imwrite('Dataset/detectedFaces/IMG_' + str(pos) + '.png', roi_gray)\n",
    "                    pos += 1\n",
    "                    #print(roi_gray.shape)\n",
    "                    #cv2.waitKey(0)\n",
    "               # if flag == 0:\n",
    "                    # cv2.imshow('asd', gray)\n",
    "                    # cv2.waitKey(0)\n",
    "               # else:\n",
    "                 #   cv2.imwrite('sampleFaceWorking.png', gray)\n",
    "        print(cnt, facecnt)\n",
    "\n",
    "detectFaces()"
   ]
  }
 ],
 "metadata": {
  "kernelspec": {
   "display_name": "Python 3",
   "language": "python",
   "name": "python3"
  },
  "language_info": {
   "codemirror_mode": {
    "name": "ipython",
    "version": 3
   },
   "file_extension": ".py",
   "mimetype": "text/x-python",
   "name": "python",
   "nbconvert_exporter": "python",
   "pygments_lexer": "ipython3",
   "version": "3.7.5"
  }
 },
 "nbformat": 4,
 "nbformat_minor": 2
}
