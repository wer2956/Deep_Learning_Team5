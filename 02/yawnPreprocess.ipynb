{
 "cells": [
  {
   "cell_type": "code",
   "execution_count": null,
   "metadata": {},
   "outputs": [],
   "source": [
    "import numpy as np\n",
    "import os\n",
    "\n",
    "from six.moves import cPickle as pickle\n",
    "import cv2\n",
    "\n",
    "dirs = ['Dataset/yawnMouth', 'Dataset/normalMouth']"
   ]
  },
  {
   "cell_type": "code",
   "execution_count": null,
   "metadata": {},
   "outputs": [],
   "source": [
    "countYawn = 40\n",
    "countNormal = 34\n",
    "\n",
    "def generate_dataset():\n",
    "    '''countYawn = 0\n",
    "    countNormal = 0\n",
    "    maxY = 0\n",
    "    maxX = 0\n",
    "    minX = 1000\n",
    "    minY = 1000\n",
    "    pos = 0\n",
    "    for dir in dirs:\n",
    "        for filename in os.listdir(dir):\n",
    "            if filename.endswith('.png'):\n",
    "                im = cv2.imread(dir + '/' + filename)\n",
    "                maxX = max(maxX, im.shape[0])\n",
    "                minX = min(minX, im.shape[0])\n",
    "                maxY = max(maxY, im.shape[1])\n",
    "                minY = min(minY, im.shape[1])\n",
    "                if pos == 0:\n",
    "                    countYawn +=1\n",
    "                else:\n",
    "                    countNormal += 1\n",
    "        pos += 1\n",
    "    print(minX, maxX, minY, maxY, countYawn, countNormal)'''\n",
    "    maxX = 60\n",
    "    maxY = 60\n",
    "    dataset = np.ndarray([countYawn + countNormal, maxY, maxX, 1], dtype='float32')\n",
    "    i = 0\n",
    "    j = 0\n",
    "    pos = 0\n",
    "    for dir in dirs:\n",
    "        for filename in os.listdir(dir):\n",
    "            if filename.endswith('.png'):\n",
    "                im = cv2.imread(dir + '/' + filename)\n",
    "                im = cv2.resize(im, (maxX, maxY))\n",
    "                im = np.dot(np.array(im, dtype='float32'), [[0.2989], [0.5870], [0.1140]]) / 255\n",
    "                # print(i)\n",
    "                dataset[i, :, :, :] = im[:, :, :]\n",
    "                i += 1\n",
    "        if pos == 0:\n",
    "            labels = np.ones([i, 1], dtype=int)\n",
    "            j = i\n",
    "            pos += 1\n",
    "        else:\n",
    "            labels = np.concatenate((labels, np.zeros([i - j, 1], dtype=int)))\n",
    "    return dataset, labels"
   ]
  },
  {
   "cell_type": "code",
   "execution_count": null,
   "metadata": {},
   "outputs": [],
   "source": [
    "dataset, labels = generate_dataset()\n",
    "print(\"Total = \", len(dataset))\n",
    "\n",
    "totalCount = countYawn + countNormal\n",
    "split = int(countYawn * 0.8)\n",
    "splitEnd = countYawn\n",
    "split2 = countYawn + int(countNormal * 0.8)\n",
    "\n",
    "train_dataset = dataset[:split]\n",
    "train_labels = np.ones([split, 1], dtype=int)\n",
    "test_dataset = dataset[split:splitEnd]\n",
    "test_labels = np.ones([splitEnd - split, 1], dtype=int)\n",
    "\n",
    "train_dataset = np.concatenate((train_dataset, dataset[splitEnd:split2]))\n",
    "train_labels = np.concatenate((train_labels, np.zeros([split2 - splitEnd, 1], dtype=int)))\n",
    "test_dataset = np.concatenate((test_dataset, dataset[split2:]))\n",
    "test_labels = np.concatenate((test_labels, np.zeros([totalCount - split2, 1], dtype=int)))"
   ]
  },
  {
   "cell_type": "code",
   "execution_count": null,
   "metadata": {},
   "outputs": [],
   "source": [
    "pickle_file = 'yawn_mouths.pickle'\n",
    "\n",
    "try:\n",
    "    f = open(pickle_file, 'wb')\n",
    "    save = {\n",
    "        'train_dataset': train_dataset,\n",
    "        'train_labels': train_labels,\n",
    "        'test_dataset': test_dataset,\n",
    "        'test_labels': test_labels,\n",
    "    }\n",
    "    pickle.dump(save, f, pickle.HIGHEST_PROTOCOL)\n",
    "    f.close()\n",
    "except Exception as e:\n",
    "    print('Unable to save data to', pickle_file, ':', e)\n",
    "    raise\n",
    "\n",
    "statinfo = os.stat(pickle_file)\n",
    "print('Compressed pickle size:', statinfo.st_size)"
   ]
  }
 ],
 "metadata": {
  "kernelspec": {
   "display_name": "Python 3",
   "language": "python",
   "name": "python3"
  },
  "language_info": {
   "codemirror_mode": {
    "name": "ipython",
    "version": 3
   },
   "file_extension": ".py",
   "mimetype": "text/x-python",
   "name": "python",
   "nbconvert_exporter": "python",
   "pygments_lexer": "ipython3",
   "version": "3.7.5"
  }
 },
 "nbformat": 4,
 "nbformat_minor": 2
}
