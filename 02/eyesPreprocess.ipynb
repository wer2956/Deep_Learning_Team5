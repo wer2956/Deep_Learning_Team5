{
 "cells": [
  {
   "cell_type": "code",
   "execution_count": null,
   "metadata": {},
   "outputs": [],
   "source": [
    "import matplotlib.pyplot as plt\n",
    "import numpy as np\n",
    "import os\n",
    "from six.moves import cPickle as pickle\n",
    "import cv2\n",
    "\n",
    "dirs = ['Dataset/openLeftEyes', 'Dataset/openRightEyes']\n",
    "dirs2 = ['Dataset/closedLeftEyes', 'Dataset/closedRightEyes']"
   ]
  },
  {
   "cell_type": "code",
   "execution_count": null,
   "metadata": {},
   "outputs": [],
   "source": [
    "def generate_dataset():\n",
    "    dataset = np.ndarray([1231 * 2, 24, 24, 1], dtype='float32')\n",
    "    i = 0\n",
    "    for dir in dirs:\n",
    "        for filename in os.listdir(dir):\n",
    "            if filename.endswith('.jpg'):\n",
    "                im = cv2.imread(dir + '/' + filename)\n",
    "                im = np.dot(np.array(im, dtype='float32'), [[0.2989], [0.5870], [0.1140]]) / 255\n",
    "                dataset[i, :, :, :] = im[:, :, :]\n",
    "                i += 1\n",
    "    labels = np.ones([len(dataset), 1], dtype=int)\n",
    "    return dataset, labels\n",
    "\n",
    "\n",
    "def generate_dataset_closed():\n",
    "    dataset = np.ndarray([1192 * 2, 24, 24, 1], dtype='float32')\n",
    "    i = 0\n",
    "    for dir in dirs2:\n",
    "        for filename in os.listdir(dir):\n",
    "            if filename.endswith('.jpg'):\n",
    "                im = cv2.imread(dir + '/' + filename)\n",
    "                im = np.dot(np.array(im, dtype='float32'), [[0.2989], [0.5870], [0.1140]]) / 255\n",
    "                dataset[i, :, :, :] = im[:, :, :]\n",
    "                i += 1\n",
    "    labels = np.zeros([len(dataset), 1], dtype=int)\n",
    "    return dataset, labels"
   ]
  },
  {
   "cell_type": "code",
   "execution_count": null,
   "metadata": {},
   "outputs": [],
   "source": [
    "dataset_open, labels_open = generate_dataset()\n",
    "dataset_closed, labels_closed = generate_dataset_closed()\n",
    "print(\"done\")"
   ]
  },
  {
   "cell_type": "code",
   "execution_count": null,
   "metadata": {},
   "outputs": [],
   "source": [
    "split = int(len(dataset_closed) * 0.8)\n",
    "train_dataset_closed = dataset_closed[:split]\n",
    "train_labels_closed = labels_closed[:split]\n",
    "test_dataset_closed = dataset_closed[split:]\n",
    "test_labels_closed = labels_closed[split:]\n",
    "\n",
    "pickle_file = 'closed_eyes.pickle'\n",
    "\n",
    "try:\n",
    "    f = open(pickle_file, 'wb')\n",
    "    save = {\n",
    "        'train_dataset': train_dataset_closed,\n",
    "        'train_labels': train_labels_closed,\n",
    "        'test_dataset': test_dataset_closed,\n",
    "        'test_labels': test_labels_closed,\n",
    "    }\n",
    "    pickle.dump(save, f, pickle.HIGHEST_PROTOCOL)\n",
    "    f.close()\n",
    "except Exception as e:\n",
    "    print('Unable to save data to', pickle_file, ':', e)\n",
    "    raise\n",
    "\n",
    "statinfo = os.stat(pickle_file)\n",
    "print('Compressed pickle size:', statinfo.st_size)"
   ]
  },
  {
   "cell_type": "code",
   "execution_count": null,
   "metadata": {},
   "outputs": [],
   "source": [
    "split = int(len(dataset_open) * 0.8)\n",
    "train_dataset_open = dataset_open[:split]\n",
    "train_labels_open = labels_open[:split]\n",
    "test_dataset_open = dataset_open[split:]\n",
    "test_labels_open = labels_open[split:]\n",
    "\n",
    "pickle_file = 'open_eyes.pickle'\n",
    "\n",
    "try:\n",
    "    f = open(pickle_file, 'wb')\n",
    "    save = {\n",
    "        'train_dataset': train_dataset_open,\n",
    "        'train_labels': train_labels_open,\n",
    "        'test_dataset': test_dataset_open,\n",
    "        'test_labels': test_labels_open,\n",
    "    }\n",
    "    pickle.dump(save, f, pickle.HIGHEST_PROTOCOL)\n",
    "    f.close()\n",
    "except Exception as e:\n",
    "    print('Unable to save data to', pickle_file, ':', e)\n",
    "    raise\n",
    "\n",
    "statinfo = os.stat(pickle_file)\n",
    "print('Compressed pickle size:', statinfo.st_size)"
   ]
  }
 ],
 "metadata": {
  "kernelspec": {
   "display_name": "Python 3",
   "language": "python",
   "name": "python3"
  },
  "language_info": {
   "codemirror_mode": {
    "name": "ipython",
    "version": 3
   },
   "file_extension": ".py",
   "mimetype": "text/x-python",
   "name": "python",
   "nbconvert_exporter": "python",
   "pygments_lexer": "ipython3",
   "version": "3.7.5"
  }
 },
 "nbformat": 4,
 "nbformat_minor": 2
}
