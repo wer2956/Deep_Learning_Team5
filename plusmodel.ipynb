{
 "cells": [
  {
   "cell_type": "code",
   "execution_count": 14,
   "metadata": {},
   "outputs": [],
   "source": [
    "import os\n",
    "from keras.preprocessing import image\n",
    "import matplotlib.pyplot as plt \n",
    "import numpy as np\n",
    "from keras.utils.np_utils import to_categorical\n",
    "import random,shutil\n",
    "from keras.models import Sequential\n",
    "from keras.layers import Dropout,Conv2D,Flatten,Dense, MaxPooling2D, BatchNormalization\n",
    "from keras.models import load_model"
   ]
  },
  {
   "cell_type": "code",
   "execution_count": 16,
   "metadata": {},
   "outputs": [
    {
     "name": "stdout",
     "output_type": "stream",
     "text": [
      "Found 809 images belonging to 2 classes.\n",
      "Found 96 images belonging to 2 classes.\n",
      "809 96\n",
      "Epoch 1/15\n",
      "809/809 [==============================] - 21s 26ms/step - loss: 0.7063 - accuracy: 0.6897 - val_loss: 0.3187 - val_accuracy: 0.5000\n",
      "Epoch 2/15\n",
      "809/809 [==============================] - 20s 25ms/step - loss: 0.4712 - accuracy: 0.7441 - val_loss: 1.7094 - val_accuracy: 0.7812\n",
      "Epoch 3/15\n",
      "809/809 [==============================] - 20s 25ms/step - loss: 0.2635 - accuracy: 0.8912 - val_loss: 0.5670 - val_accuracy: 0.8958\n",
      "Epoch 4/15\n",
      "809/809 [==============================] - 21s 25ms/step - loss: 0.1617 - accuracy: 0.9456 - val_loss: 0.0900 - val_accuracy: 0.9062\n",
      "Epoch 5/15\n",
      "809/809 [==============================] - 21s 26ms/step - loss: 0.1018 - accuracy: 0.9679 - val_loss: 4.6492e-06 - val_accuracy: 0.8958\n",
      "Epoch 6/15\n",
      "809/809 [==============================] - 21s 26ms/step - loss: 0.1100 - accuracy: 0.9580 - val_loss: 0.1678 - val_accuracy: 0.8750\n",
      "Epoch 7/15\n",
      "809/809 [==============================] - 22s 27ms/step - loss: 0.0766 - accuracy: 0.9728 - val_loss: 0.2056 - val_accuracy: 0.9167\n",
      "Epoch 8/15\n",
      "809/809 [==============================] - 22s 27ms/step - loss: 0.0474 - accuracy: 0.9815 - val_loss: 4.2199e-05 - val_accuracy: 0.9479\n",
      "Epoch 9/15\n",
      "809/809 [==============================] - 22s 27ms/step - loss: 0.0602 - accuracy: 0.9790 - val_loss: 0.0017 - val_accuracy: 0.9271\n",
      "Epoch 10/15\n",
      "809/809 [==============================] - 22s 27ms/step - loss: 0.0321 - accuracy: 0.9852 - val_loss: 0.0758 - val_accuracy: 0.9062\n",
      "Epoch 11/15\n",
      "809/809 [==============================] - 22s 28ms/step - loss: 0.0849 - accuracy: 0.9815 - val_loss: 0.0000e+00 - val_accuracy: 0.9375\n",
      "Epoch 12/15\n",
      "809/809 [==============================] - 22s 28ms/step - loss: 0.0442 - accuracy: 0.9852 - val_loss: 2.1219e-05 - val_accuracy: 0.8958\n",
      "Epoch 13/15\n",
      "809/809 [==============================] - 22s 28ms/step - loss: 0.0335 - accuracy: 0.9839 - val_loss: 1.8821e-04 - val_accuracy: 0.9271\n",
      "Epoch 14/15\n",
      "809/809 [==============================] - 23s 28ms/step - loss: 0.0655 - accuracy: 0.9901 - val_loss: 7.0093e-05 - val_accuracy: 0.8958\n",
      "Epoch 15/15\n",
      "809/809 [==============================] - 23s 28ms/step - loss: 0.0231 - accuracy: 0.9963 - val_loss: 0.3499 - val_accuracy: 0.9167\n"
     ]
    }
   ],
   "source": [
    "def generator(dir, gen=image.ImageDataGenerator(rescale=1./255), shuffle=True,batch_size=1,target_size=(24,24),class_mode='categorical' ):\n",
    "    return gen.flow_from_directory(dir,batch_size=batch_size,shuffle=shuffle,color_mode='grayscale',class_mode=class_mode,target_size=target_size)\n",
    "\n",
    "BS= 1\n",
    "TS=(24,24)\n",
    "train_batch= generator('data/train',shuffle=True, batch_size=BS,target_size=TS)\n",
    "valid_batch= generator('data/valid',shuffle=True, batch_size=BS,target_size=TS)\n",
    "SPE= len(train_batch.classes)//BS\n",
    "VS = len(valid_batch.classes)//BS\n",
    "print(SPE,VS)\n",
    "\n",
    "\n",
    "# img,labels= next(train_batch)\n",
    "# print(img.shape)\n",
    "\n",
    "model = load_model('models/cnncat2.h5')\n",
    "\n",
    "#model.compile(optimizer='adam',loss='categorical_crossentropy',metrics=['accuracy'])\n",
    "\n",
    "model.fit_generator(train_batch, validation_data=valid_batch,epochs=15,steps_per_epoch=SPE ,validation_steps=VS)\n",
    "\n",
    "model.save('models/cnnCat2_mine.h5', overwrite=True)"
   ]
  },
  {
   "cell_type": "code",
   "execution_count": null,
   "metadata": {},
   "outputs": [],
   "source": []
  }
 ],
 "metadata": {
  "kernelspec": {
   "display_name": "Python 3",
   "language": "python",
   "name": "python3"
  },
  "language_info": {
   "codemirror_mode": {
    "name": "ipython",
    "version": 3
   },
   "file_extension": ".py",
   "mimetype": "text/x-python",
   "name": "python",
   "nbconvert_exporter": "python",
   "pygments_lexer": "ipython3",
   "version": "3.7.4"
  }
 },
 "nbformat": 4,
 "nbformat_minor": 4
}
