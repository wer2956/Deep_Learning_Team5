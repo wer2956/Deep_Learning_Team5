{
 "cells": [
  {
   "cell_type": "code",
   "execution_count": 1,
   "metadata": {},
   "outputs": [
    {
     "name": "stderr",
     "output_type": "stream",
     "text": [
      "Using TensorFlow backend.\n"
     ]
    }
   ],
   "source": [
    "import os\n",
    "from keras.preprocessing import image\n",
    "import matplotlib.pyplot as plt \n",
    "import numpy as np\n",
    "from keras.utils.np_utils import to_categorical\n",
    "import random,shutil\n",
    "from keras.models import Sequential\n",
    "from keras.layers import Dropout,Conv2D,Flatten,Dense, MaxPooling2D, BatchNormalization\n",
    "from keras.models import load_model"
   ]
  },
  {
   "cell_type": "code",
   "execution_count": 2,
   "metadata": {},
   "outputs": [
    {
     "name": "stdout",
     "output_type": "stream",
     "text": [
      "Found 5422 images belonging to 2 classes.\n",
      "Found 1160 images belonging to 2 classes.\n",
      "169 36\n"
     ]
    }
   ],
   "source": [
    "def generator(dir,\n",
    "              gen=image.ImageDataGenerator(rescale=1./255),\n",
    "              shuffle=True,\n",
    "              batch_size=1,\n",
    "              target_size=(24,24),\n",
    "              class_mode='categorical' ):\n",
    "\n",
    "    return gen.flow_from_directory(dir,\n",
    "                                   batch_size=batch_size,\n",
    "                                   shuffle=shuffle,\n",
    "                                   color_mode='grayscale',\n",
    "                                   class_mode=class_mode,\n",
    "                                   target_size=target_size)\n",
    "\n",
    "BS= 32\n",
    "TS=(24,24)\n",
    "train_batch= generator('a2a_data/train',\n",
    "                       shuffle=True, \n",
    "                       batch_size=BS,\n",
    "                       target_size=TS)\n",
    "valid_batch= generator('a2a_data/valid',\n",
    "                       shuffle=True, \n",
    "                       batch_size=BS,\n",
    "                       target_size=TS)\n",
    "SPE= len(train_batch.classes)//BS\n",
    "VS = len(valid_batch.classes)//BS\n",
    "print(SPE,VS)"
   ]
  },
  {
   "cell_type": "code",
   "execution_count": 3,
   "metadata": {},
   "outputs": [
    {
     "name": "stdout",
     "output_type": "stream",
     "text": [
      "WARNING:tensorflow:From C:\\Users\\Owner6\\Anaconda3\\envs\\keras\\lib\\site-packages\\keras\\backend\\tensorflow_backend.py:74: The name tf.get_default_graph is deprecated. Please use tf.compat.v1.get_default_graph instead.\n",
      "\n",
      "WARNING:tensorflow:From C:\\Users\\Owner6\\Anaconda3\\envs\\keras\\lib\\site-packages\\keras\\backend\\tensorflow_backend.py:519: The name tf.placeholder is deprecated. Please use tf.compat.v1.placeholder instead.\n",
      "\n",
      "WARNING:tensorflow:From C:\\Users\\Owner6\\Anaconda3\\envs\\keras\\lib\\site-packages\\keras\\backend\\tensorflow_backend.py:4140: The name tf.random_uniform is deprecated. Please use tf.random.uniform instead.\n",
      "\n",
      "WARNING:tensorflow:From C:\\Users\\Owner6\\Anaconda3\\envs\\keras\\lib\\site-packages\\keras\\backend\\tensorflow_backend.py:3978: The name tf.nn.max_pool is deprecated. Please use tf.nn.max_pool2d instead.\n",
      "\n",
      "WARNING:tensorflow:From C:\\Users\\Owner6\\Anaconda3\\envs\\keras\\lib\\site-packages\\keras\\backend\\tensorflow_backend.py:133: The name tf.placeholder_with_default is deprecated. Please use tf.compat.v1.placeholder_with_default instead.\n",
      "\n",
      "WARNING:tensorflow:From C:\\Users\\Owner6\\Anaconda3\\envs\\keras\\lib\\site-packages\\keras\\backend\\tensorflow_backend.py:3447: calling dropout (from tensorflow.python.ops.nn_ops) with keep_prob is deprecated and will be removed in a future version.\n",
      "Instructions for updating:\n",
      "Please use `rate` instead of `keep_prob`. Rate should be set to `rate = 1 - keep_prob`.\n"
     ]
    }
   ],
   "source": [
    "model = Sequential([\n",
    "    Conv2D(32, kernel_size=(3, 3), activation='relu', input_shape=(24,24,1)),\n",
    "    MaxPooling2D(pool_size=(1,1)),\n",
    "    Conv2D(32,(3,3),activation='relu'),\n",
    "    MaxPooling2D(pool_size=(1,1)), \n",
    "    Conv2D(64, (3, 3), activation='relu'),\n",
    "    MaxPooling2D(pool_size=(1,1)),\n",
    "   \n",
    "    Dropout(0.25),\n",
    "    Flatten(),\n",
    "    Dense(128, activation='relu'),\n",
    "    Dropout(0.5),\n",
    "    Dense(2, activation='softmax')\n",
    "])"
   ]
  },
  {
   "cell_type": "code",
   "execution_count": 4,
   "metadata": {
    "scrolled": true
   },
   "outputs": [
    {
     "name": "stdout",
     "output_type": "stream",
     "text": [
      "WARNING:tensorflow:From C:\\Users\\Owner6\\Anaconda3\\envs\\keras\\lib\\site-packages\\keras\\optimizers.py:790: The name tf.train.Optimizer is deprecated. Please use tf.compat.v1.train.Optimizer instead.\n",
      "\n",
      "WARNING:tensorflow:From C:\\Users\\Owner6\\Anaconda3\\envs\\keras\\lib\\site-packages\\keras\\backend\\tensorflow_backend.py:3297: The name tf.log is deprecated. Please use tf.math.log instead.\n",
      "\n",
      "WARNING:tensorflow:From C:\\Users\\Owner6\\Anaconda3\\envs\\keras\\lib\\site-packages\\tensorflow\\python\\ops\\math_grad.py:1250: add_dispatch_support.<locals>.wrapper (from tensorflow.python.ops.array_ops) is deprecated and will be removed in a future version.\n",
      "Instructions for updating:\n",
      "Use tf.where in 2.0, which has the same broadcast rule as np.where\n",
      "Epoch 1/15\n",
      "169/169 [==============================] - 17s 101ms/step - loss: 0.5344 - acc: 0.7326 - val_loss: 0.3136 - val_acc: 0.8828\n",
      "Epoch 2/15\n",
      "169/169 [==============================] - 2s 11ms/step - loss: 0.3094 - acc: 0.8687 - val_loss: 0.1947 - val_acc: 0.9326\n",
      "Epoch 3/15\n",
      "169/169 [==============================] - 2s 11ms/step - loss: 0.1998 - acc: 0.9201 - val_loss: 0.1861 - val_acc: 0.9238\n",
      "Epoch 4/15\n",
      "169/169 [==============================] - 2s 11ms/step - loss: 0.1844 - acc: 0.9306 - val_loss: 0.1279 - val_acc: 0.9521\n",
      "Epoch 5/15\n",
      "169/169 [==============================] - 2s 11ms/step - loss: 0.1262 - acc: 0.9535 - val_loss: 0.1565 - val_acc: 0.9468\n",
      "Epoch 6/15\n",
      "169/169 [==============================] - 2s 11ms/step - loss: 0.1093 - acc: 0.9569 - val_loss: 0.1251 - val_acc: 0.9574\n",
      "Epoch 7/15\n",
      "169/169 [==============================] - 2s 11ms/step - loss: 0.0922 - acc: 0.9669 - val_loss: 0.1326 - val_acc: 0.9592\n",
      "Epoch 8/15\n",
      "169/169 [==============================] - 2s 11ms/step - loss: 0.0848 - acc: 0.9702 - val_loss: 0.1080 - val_acc: 0.9583\n",
      "Epoch 9/15\n",
      "169/169 [==============================] - 2s 11ms/step - loss: 0.0703 - acc: 0.9702 - val_loss: 0.1229 - val_acc: 0.9557\n",
      "Epoch 10/15\n",
      "169/169 [==============================] - 2s 11ms/step - loss: 0.0628 - acc: 0.9774 - val_loss: 0.1285 - val_acc: 0.9583\n",
      "Epoch 11/15\n",
      "169/169 [==============================] - 2s 11ms/step - loss: 0.0595 - acc: 0.9787 - val_loss: 0.1068 - val_acc: 0.9734\n",
      "Epoch 12/15\n",
      "169/169 [==============================] - 2s 11ms/step - loss: 0.0469 - acc: 0.9834 - val_loss: 0.1637 - val_acc: 0.9557\n",
      "Epoch 13/15\n",
      "169/169 [==============================] - 2s 11ms/step - loss: 0.0449 - acc: 0.9826 - val_loss: 0.1297 - val_acc: 0.9654\n",
      "Epoch 14/15\n",
      "169/169 [==============================] - 2s 11ms/step - loss: 0.0477 - acc: 0.9822 - val_loss: 0.1298 - val_acc: 0.9672\n",
      "Epoch 15/15\n",
      "169/169 [==============================] - 2s 11ms/step - loss: 0.0409 - acc: 0.9863 - val_loss: 0.1538 - val_acc: 0.9574\n"
     ]
    }
   ],
   "source": [
    "model.compile(optimizer='adam',\n",
    "              loss='categorical_crossentropy',\n",
    "              metrics=['accuracy'])\n",
    "\n",
    "model.fit_generator(train_batch, \n",
    "                    validation_data=valid_batch,\n",
    "                    epochs=15,\n",
    "                    steps_per_epoch=SPE,\n",
    "                    validation_steps=VS)\n",
    "\n",
    "model.save('a2a_model.h5', overwrite=True)"
   ]
  }
 ],
 "metadata": {
  "kernelspec": {
   "display_name": "Python 3",
   "language": "python",
   "name": "python3"
  },
  "language_info": {
   "codemirror_mode": {
    "name": "ipython",
    "version": 3
   },
   "file_extension": ".py",
   "mimetype": "text/x-python",
   "name": "python",
   "nbconvert_exporter": "python",
   "pygments_lexer": "ipython3",
   "version": "3.7.5"
  }
 },
 "nbformat": 4,
 "nbformat_minor": 4
}
