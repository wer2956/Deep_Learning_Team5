{
 "cells": [
  {
   "cell_type": "code",
   "execution_count": 2,
   "metadata": {},
   "outputs": [
    {
     "ename": "ModuleNotFoundError",
     "evalue": "No module named 'selenium'",
     "output_type": "error",
     "traceback": [
      "\u001b[1;31m---------------------------------------------------------------------------\u001b[0m",
      "\u001b[1;31mModuleNotFoundError\u001b[0m                       Traceback (most recent call last)",
      "\u001b[1;32m<ipython-input-2-6b1dca99dce5>\u001b[0m in \u001b[0;36m<module>\u001b[1;34m\u001b[0m\n\u001b[0;32m      1\u001b[0m \u001b[1;32mfrom\u001b[0m \u001b[0mbs4\u001b[0m \u001b[1;32mimport\u001b[0m \u001b[0mBeautifulSoup\u001b[0m \u001b[1;32mas\u001b[0m \u001b[0mbs\u001b[0m\u001b[1;33m\u001b[0m\u001b[1;33m\u001b[0m\u001b[0m\n\u001b[1;32m----> 2\u001b[1;33m \u001b[1;32mfrom\u001b[0m \u001b[0mselenium\u001b[0m \u001b[1;32mimport\u001b[0m \u001b[0mwebdriver\u001b[0m\u001b[1;33m\u001b[0m\u001b[1;33m\u001b[0m\u001b[0m\n\u001b[0m\u001b[0;32m      3\u001b[0m \u001b[1;32mimport\u001b[0m \u001b[0mtime\u001b[0m\u001b[1;33m\u001b[0m\u001b[1;33m\u001b[0m\u001b[0m\n\u001b[0;32m      4\u001b[0m \u001b[1;32mimport\u001b[0m \u001b[0mnumpy\u001b[0m \u001b[1;32mas\u001b[0m \u001b[0mnp\u001b[0m\u001b[1;33m\u001b[0m\u001b[1;33m\u001b[0m\u001b[0m\n\u001b[0;32m      5\u001b[0m \u001b[1;32mimport\u001b[0m \u001b[0mpandas\u001b[0m \u001b[1;32mas\u001b[0m \u001b[0mpd\u001b[0m\u001b[1;33m\u001b[0m\u001b[1;33m\u001b[0m\u001b[0m\n",
      "\u001b[1;31mModuleNotFoundError\u001b[0m: No module named 'selenium'"
     ]
    }
   ],
   "source": [
    "from bs4 import BeautifulSoup as bs\n",
    "from selenium import webdriver\n",
    "import time\n",
    "import numpy as np\n",
    "import pandas as pd\n",
    "client_id = \"e9jbea0v6k\"\n",
    "client_secret = \"2MFb9u0X1QKhDDPiClk2qCSpj5bEprzKDmNikzoo\"\n",
    "\n",
    "driver = webdriver.Chrome(\"C:\\chromedriver_win32\\chromedriver.exe\")\n",
    "driver.implicitly_wait(3)\n",
    "\n",
    "area = ['경부선 졸음쉼터','서울양양선 졸음쉼터','서울외곽순환선 졸음쉼터','경상북도 졸음쉼터',\n",
    "     '광주광역시 졸음쉼터','대구광역시 졸음쉼터','대전광역시 졸음쉼터','부산광역시 졸음쉼터'\n",
    "        ,'서울특별시 졸음쉼터','울산광역시 졸음쉼터','인천광역시 졸음쉼터','전라남도 졸음쉼터',\n",
    "        '전라북도 졸음쉼터','충청남도 졸음쉼터','충청북도 졸음쉼터','세종특별자치시 졸음쉼터']\n",
    "\n",
    "add_name = []\n",
    "for idx in area:\n",
    "    driver.get('https://map.naver.com/v5/search/%EC%A1%B8%EC%9D%8C%EC%89%BC%ED%84%B0?c=14110913.0779308,4522082.4343128,14,0,0,0,dh')\n",
    "    driver.find_element_by_css_selector('#search-input ').send_keys(idx)\n",
    "    driver.fine_element_by_css_selector('#header button[type=\"submit\"]').click()"
   ]
  },
  {
   "cell_type": "code",
   "execution_count": null,
   "metadata": {},
   "outputs": [],
   "source": []
  }
 ],
 "metadata": {
  "kernelspec": {
   "display_name": "Python 3",
   "language": "python",
   "name": "python3"
  },
  "language_info": {
   "codemirror_mode": {
    "name": "ipython",
    "version": 3
   },
   "file_extension": ".py",
   "mimetype": "text/x-python",
   "name": "python",
   "nbconvert_exporter": "python",
   "pygments_lexer": "ipython3",
   "version": "3.7.5"
  }
 },
 "nbformat": 4,
 "nbformat_minor": 4
}
