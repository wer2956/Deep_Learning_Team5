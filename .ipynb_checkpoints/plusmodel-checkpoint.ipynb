{
 "cells": [
  {
   "cell_type": "code",
   "execution_count": null,
   "metadata": {},
   "outputs": [],
   "source": [
    "import os\n",
    "from keras.preprocessing import image\n",
    "import matplotlib.pyplot as plt \n",
    "import numpy as np\n",
    "from keras.utils.np_utils import to_categorical\n",
    "import random,shutil\n",
    "from keras.models import Sequential\n",
    "from keras.layers import Dropout,Conv2D,Flatten,Dense, MaxPooling2D, BatchNormalization\n",
    "from keras.models import load_model"
   ]
  },
  {
   "cell_type": "code",
   "execution_count": null,
   "metadata": {},
   "outputs": [],
   "source": [
    "def generator(dir,\n",
    "              gen=image.ImageDataGenerator(rescale=1./255), \n",
    "              shuffle=True,batch_size=1,\n",
    "              target_size=(24,24),\n",
    "              class_mode='categorical' ):\n",
    "    return gen.flow_from_directory(dir,\n",
    "                                   batch_size=batch_size,\n",
    "                                   shuffle=shuffle,\n",
    "                                   color_mode='grayscale',\n",
    "                                   class_mode=class_mode,\n",
    "                                   target_size=target_size)\n",
    "\n",
    "BS= 1\n",
    "TS=(24,24)\n",
    "train_batch= generator('C:\\Users\\wer29\\Desktop\\data\\train', \n",
    "                       shuffle=True, \n",
    "                       batch_size=BS, \n",
    "                       target_size=TS)\n",
    "valid_batch= generator('C:\\Users\\wer29\\Desktop\\data\\valid', \n",
    "                       shuffle=True, \n",
    "                       batch_size=BS, \n",
    "                       target_size=TS)\n",
    "SPE= len(train_batch.classes)//BS\n",
    "VS = len(valid_batch.classes)//BS\n",
    "print(SPE,VS)\n",
    "\n",
    "model.fit_generator(train_batch, \n",
    "                    validation_data=valid_batch,\n",
    "                    epochs=15,\n",
    "                    steps_per_epoch=SPE,\n",
    "                    validation_steps=VS)\n",
    "\n",
    "model.save('a2a_01.h5', overwrite=True)"
   ]
  },
  {
   "cell_type": "code",
   "execution_count": null,
   "metadata": {},
   "outputs": [],
   "source": []
  }
 ],
 "metadata": {
  "kernelspec": {
   "display_name": "Python 3",
   "language": "python",
   "name": "python3"
  },
  "language_info": {
   "codemirror_mode": {
    "name": "ipython",
    "version": 3
   },
   "file_extension": ".py",
   "mimetype": "text/x-python",
   "name": "python",
   "nbconvert_exporter": "python",
   "pygments_lexer": "ipython3",
   "version": "3.7.5"
  }
 },
 "nbformat": 4,
 "nbformat_minor": 4
}
