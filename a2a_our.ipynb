{
 "cells": [
  {
   "cell_type": "code",
   "execution_count": 1,
   "metadata": {},
   "outputs": [
    {
     "name": "stderr",
     "output_type": "stream",
     "text": [
      "Using TensorFlow backend.\n"
     ]
    }
   ],
   "source": [
    "import os\n",
    "from keras.preprocessing import image\n",
    "import matplotlib.pyplot as plt \n",
    "import numpy as np\n",
    "from keras.utils.np_utils import to_categorical\n",
    "import random,shutil\n",
    "from keras.models import Sequential\n",
    "from keras.layers import Dropout,Conv2D,Flatten,Dense, MaxPooling2D, BatchNormalization\n",
    "from keras.models import load_model"
   ]
  },
  {
   "cell_type": "code",
   "execution_count": 2,
   "metadata": {},
   "outputs": [
    {
     "name": "stdout",
     "output_type": "stream",
     "text": [
      "Found 5422 images belonging to 2 classes.\n",
      "Found 1160 images belonging to 2 classes.\n",
      "169 36\n"
     ]
    }
   ],
   "source": [
    "def generator(dir,\n",
    "              gen=image.ImageDataGenerator(rescale=1./255),\n",
    "              shuffle=True,\n",
    "              batch_size=1,\n",
    "              target_size=(24,24),\n",
    "              class_mode='categorical' ):\n",
    "\n",
    "    return gen.flow_from_directory(dir,\n",
    "                                   batch_size=batch_size,\n",
    "                                   shuffle=shuffle,\n",
    "                                   color_mode='grayscale',\n",
    "                                   class_mode=class_mode,\n",
    "                                   target_size=target_size)\n",
    "\n",
    "BS= 32\n",
    "TS=(24,24)\n",
    "train_batch= generator('a2a_data/train',\n",
    "                       shuffle=True, \n",
    "                       batch_size=BS,\n",
    "                       target_size=TS)\n",
    "valid_batch= generator('a2a_data/valid',\n",
    "                       shuffle=True, \n",
    "                       batch_size=BS,\n",
    "                       target_size=TS)\n",
    "SPE= len(train_batch.classes)//BS\n",
    "VS = len(valid_batch.classes)//BS\n",
    "print(SPE,VS)"
   ]
  },
  {
   "cell_type": "code",
   "execution_count": 3,
   "metadata": {},
   "outputs": [
    {
     "name": "stdout",
     "output_type": "stream",
     "text": [
      "WARNING:tensorflow:From C:\\Users\\Owner6\\Anaconda3\\envs\\keras\\lib\\site-packages\\keras\\backend\\tensorflow_backend.py:74: The name tf.get_default_graph is deprecated. Please use tf.compat.v1.get_default_graph instead.\n",
      "\n",
      "WARNING:tensorflow:From C:\\Users\\Owner6\\Anaconda3\\envs\\keras\\lib\\site-packages\\keras\\backend\\tensorflow_backend.py:519: The name tf.placeholder is deprecated. Please use tf.compat.v1.placeholder instead.\n",
      "\n",
      "WARNING:tensorflow:From C:\\Users\\Owner6\\Anaconda3\\envs\\keras\\lib\\site-packages\\keras\\backend\\tensorflow_backend.py:4140: The name tf.random_uniform is deprecated. Please use tf.random.uniform instead.\n",
      "\n",
      "WARNING:tensorflow:From C:\\Users\\Owner6\\Anaconda3\\envs\\keras\\lib\\site-packages\\keras\\backend\\tensorflow_backend.py:3978: The name tf.nn.max_pool is deprecated. Please use tf.nn.max_pool2d instead.\n",
      "\n",
      "WARNING:tensorflow:From C:\\Users\\Owner6\\Anaconda3\\envs\\keras\\lib\\site-packages\\keras\\backend\\tensorflow_backend.py:133: The name tf.placeholder_with_default is deprecated. Please use tf.compat.v1.placeholder_with_default instead.\n",
      "\n",
      "WARNING:tensorflow:From C:\\Users\\Owner6\\Anaconda3\\envs\\keras\\lib\\site-packages\\keras\\backend\\tensorflow_backend.py:3447: calling dropout (from tensorflow.python.ops.nn_ops) with keep_prob is deprecated and will be removed in a future version.\n",
      "Instructions for updating:\n",
      "Please use `rate` instead of `keep_prob`. Rate should be set to `rate = 1 - keep_prob`.\n"
     ]
    }
   ],
   "source": [
    "model = Sequential([\n",
    "    Conv2D(32, kernel_size=(3, 3), activation='relu', input_shape=(24,24,1)),\n",
    "    MaxPooling2D(pool_size=(1,1)),\n",
    "    Conv2D(32,(3,3),activation='relu'),\n",
    "    MaxPooling2D(pool_size=(1,1)), \n",
    "    Conv2D(64, (3, 3), activation='relu'),\n",
    "    MaxPooling2D(pool_size=(1,1)),\n",
    "   \n",
    "    Dropout(0.25),\n",
    "    Flatten(),\n",
    "    Dense(128, activation='relu'),\n",
    "    Dropout(0.5),\n",
    "    Dense(2, activation='softmax')\n",
    "])"
   ]
  },
  {
   "cell_type": "code",
   "execution_count": 4,
   "metadata": {},
   "outputs": [],
   "source": [
    "from keras import backend as K\n",
    "\n",
    "def precision(y_target, y_pred):\n",
    "    y_pred_yn = K.round(K.clip(y_pred, 0, 1))\n",
    "    y_target_yn = K.round(K.clip(y_target, 0, 1))\n",
    "    \n",
    "    count_true_positive = K.sum(y_target_yn * y_pred_yn) \n",
    "    count_true_positive_false_positive = K.sum(y_pred_yn)\n",
    "\n",
    "    precision = count_true_positive / (count_true_positive_false_positive + K.epsilon())\n",
    "    return precision\n",
    "\n",
    "\n",
    "def recall(y_target, y_pred):\n",
    "    y_target_yn = K.round(K.clip(y_target, 0, 1))\n",
    "    y_pred_yn = K.round(K.clip(y_pred, 0, 1))\n",
    "\n",
    "    count_true_positive = K.sum(y_target_yn * y_pred_yn) \n",
    "    count_true_positive_false_negative = K.sum(y_target_yn)\n",
    "\n",
    "    recall = count_true_positive / (count_true_positive_false_negative + K.epsilon())\n",
    "    return recall\n",
    "\n",
    "\n",
    "def f1score(y_target, y_pred):\n",
    "    _recall = recall(y_target, y_pred)\n",
    "    _precision = precision(y_target, y_pred)\n",
    "    _f1score = ( 2 * _recall * _precision) / (_recall + _precision+ K.epsilon())\n",
    "    \n",
    "    return _f1score"
   ]
  },
  {
   "cell_type": "code",
   "execution_count": 5,
   "metadata": {
    "scrolled": true
   },
   "outputs": [
    {
     "name": "stdout",
     "output_type": "stream",
     "text": [
      "WARNING:tensorflow:From C:\\Users\\Owner6\\Anaconda3\\envs\\keras\\lib\\site-packages\\keras\\optimizers.py:790: The name tf.train.Optimizer is deprecated. Please use tf.compat.v1.train.Optimizer instead.\n",
      "\n",
      "WARNING:tensorflow:From C:\\Users\\Owner6\\Anaconda3\\envs\\keras\\lib\\site-packages\\keras\\backend\\tensorflow_backend.py:3297: The name tf.log is deprecated. Please use tf.math.log instead.\n",
      "\n",
      "WARNING:tensorflow:From C:\\Users\\Owner6\\Anaconda3\\envs\\keras\\lib\\site-packages\\tensorflow\\python\\ops\\math_grad.py:1250: add_dispatch_support.<locals>.wrapper (from tensorflow.python.ops.array_ops) is deprecated and will be removed in a future version.\n",
      "Instructions for updating:\n",
      "Use tf.where in 2.0, which has the same broadcast rule as np.where\n",
      "Epoch 1/15\n",
      "169/169 [==============================] - 5s 31ms/step - loss: 0.5008 - acc: 0.7513 - precision: 0.7513 - recall: 0.7513 - f1score: 0.7513 - val_loss: 0.3137 - val_acc: 0.8819 - val_precision: 0.8819 - val_recall: 0.8819 - val_f1score: 0.8819\n",
      "Epoch 2/15\n",
      "169/169 [==============================] - 2s 11ms/step - loss: 0.3024 - acc: 0.8749 - precision: 0.8749 - recall: 0.8749 - f1score: 0.8749 - val_loss: 0.2333 - val_acc: 0.9078 - val_precision: 0.9078 - val_recall: 0.9078 - val_f1score: 0.9078\n",
      "Epoch 3/15\n",
      "169/169 [==============================] - 2s 11ms/step - loss: 0.1912 - acc: 0.9245 - precision: 0.9245 - recall: 0.9245 - f1score: 0.9245 - val_loss: 0.1445 - val_acc: 0.9486 - val_precision: 0.9486 - val_recall: 0.9486 - val_f1score: 0.9486\n",
      "Epoch 4/15\n",
      "169/169 [==============================] - 2s 11ms/step - loss: 0.1377 - acc: 0.9499 - precision: 0.9499 - recall: 0.9499 - f1score: 0.9499 - val_loss: 0.1766 - val_acc: 0.9388 - val_precision: 0.9388 - val_recall: 0.9388 - val_f1score: 0.9388\n",
      "Epoch 5/15\n",
      "169/169 [==============================] - 2s 11ms/step - loss: 0.1194 - acc: 0.9563 - precision: 0.9563 - recall: 0.9563 - f1score: 0.9563 - val_loss: 0.1324 - val_acc: 0.9504 - val_precision: 0.9504 - val_recall: 0.9504 - val_f1score: 0.9504\n",
      "Epoch 6/15\n",
      "169/169 [==============================] - 2s 11ms/step - loss: 0.0908 - acc: 0.9654 - precision: 0.9654 - recall: 0.9654 - f1score: 0.9654 - val_loss: 0.1168 - val_acc: 0.9574 - val_precision: 0.9574 - val_recall: 0.9574 - val_f1score: 0.9574\n",
      "Epoch 7/15\n",
      "169/169 [==============================] - 2s 11ms/step - loss: 0.0842 - acc: 0.9693 - precision: 0.9693 - recall: 0.9693 - f1score: 0.9693 - val_loss: 0.1332 - val_acc: 0.9592 - val_precision: 0.9592 - val_recall: 0.9592 - val_f1score: 0.9592\n",
      "Epoch 8/15\n",
      "169/169 [==============================] - 2s 11ms/step - loss: 0.0719 - acc: 0.9739 - precision: 0.9739 - recall: 0.9739 - f1score: 0.9739 - val_loss: 0.1204 - val_acc: 0.9539 - val_precision: 0.9539 - val_recall: 0.9539 - val_f1score: 0.9539\n",
      "Epoch 9/15\n",
      "169/169 [==============================] - 2s 11ms/step - loss: 0.0546 - acc: 0.9815 - precision: 0.9815 - recall: 0.9815 - f1score: 0.9815 - val_loss: 0.1232 - val_acc: 0.9637 - val_precision: 0.9637 - val_recall: 0.9637 - val_f1score: 0.9637\n",
      "Epoch 10/15\n",
      "169/169 [==============================] - 2s 11ms/step - loss: 0.0584 - acc: 0.9789 - precision: 0.9789 - recall: 0.9789 - f1score: 0.9789 - val_loss: 0.1697 - val_acc: 0.9530 - val_precision: 0.9530 - val_recall: 0.9530 - val_f1score: 0.9530\n",
      "Epoch 11/15\n",
      "169/169 [==============================] - 2s 11ms/step - loss: 0.0506 - acc: 0.9807 - precision: 0.9807 - recall: 0.9807 - f1score: 0.9807 - val_loss: 0.1759 - val_acc: 0.9548 - val_precision: 0.9548 - val_recall: 0.9548 - val_f1score: 0.9548\n",
      "Epoch 12/15\n",
      "169/169 [==============================] - 2s 11ms/step - loss: 0.0440 - acc: 0.9844 - precision: 0.9844 - recall: 0.9844 - f1score: 0.9844 - val_loss: 0.1362 - val_acc: 0.9619 - val_precision: 0.9619 - val_recall: 0.9619 - val_f1score: 0.9619\n",
      "Epoch 13/15\n",
      "169/169 [==============================] - 2s 11ms/step - loss: 0.0382 - acc: 0.9882 - precision: 0.9882 - recall: 0.9882 - f1score: 0.9882 - val_loss: 0.1484 - val_acc: 0.9566 - val_precision: 0.9566 - val_recall: 0.9566 - val_f1score: 0.9566\n",
      "Epoch 14/15\n",
      "169/169 [==============================] - 2s 11ms/step - loss: 0.0346 - acc: 0.9874 - precision: 0.9874 - recall: 0.9874 - f1score: 0.9874 - val_loss: 0.1660 - val_acc: 0.9610 - val_precision: 0.9610 - val_recall: 0.9610 - val_f1score: 0.9610\n",
      "Epoch 15/15\n",
      "169/169 [==============================] - 2s 11ms/step - loss: 0.0354 - acc: 0.9867 - precision: 0.9867 - recall: 0.9867 - f1score: 0.9867 - val_loss: 0.1664 - val_acc: 0.9557 - val_precision: 0.9557 - val_recall: 0.9557 - val_f1score: 0.9557\n"
     ]
    }
   ],
   "source": [
    "model.compile(optimizer='adam',\n",
    "              loss='categorical_crossentropy',\n",
    "              metrics=['accuracy', precision, recall, f1score])\n",
    "\n",
    "model.fit_generator(train_batch, \n",
    "                    validation_data=valid_batch,\n",
    "                    epochs=15,\n",
    "                    steps_per_epoch=SPE,\n",
    "                    validation_steps=VS)\n",
    "\n",
    "model.save('a2a_model.h5', overwrite=True)"
   ]
  },
  {
   "cell_type": "code",
   "execution_count": 6,
   "metadata": {},
   "outputs": [
    {
     "name": "stdout",
     "output_type": "stream",
     "text": [
      "loss: 0.148, accuracy: 0.954, precision: 0.954, recall: 0.954, f1score: 0.954\n"
     ]
    }
   ],
   "source": [
    "_loss, _acc, _precision, _recall, _f1score = model.evaluate_generator(valid_batch, steps=500)\n",
    "print('loss: {:.3f}, accuracy: {:.3f}, precision: {:.3f}, recall: {:.3f}, f1score: {:.3f}'.format(_loss, _acc, _precision, _recall, _f1score))"
   ]
  }
 ],
 "metadata": {
  "kernelspec": {
   "display_name": "Python 3",
   "language": "python",
   "name": "python3"
  },
  "language_info": {
   "codemirror_mode": {
    "name": "ipython",
    "version": 3
   },
   "file_extension": ".py",
   "mimetype": "text/x-python",
   "name": "python",
   "nbconvert_exporter": "python",
   "pygments_lexer": "ipython3",
   "version": "3.7.4"
  }
 },
 "nbformat": 4,
 "nbformat_minor": 4
}
