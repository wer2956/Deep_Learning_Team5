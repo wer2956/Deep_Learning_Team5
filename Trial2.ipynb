{
 "cells": [
  {
   "cell_type": "code",
   "execution_count": 30,
   "metadata": {},
   "outputs": [],
   "source": [
    "### import numpy as np\n",
    "import matplotlib.pyplot as plt\n",
    "from keras.models import Sequential\n",
    "from keras.layers import Dense, Flatten\n",
    "from keras.layers.convolutional import Conv2D, MaxPooling2D\n",
    "from keras.preprocessing.image import ImageDataGenerator\n",
    "from PIL import Image\n",
    "import os\n",
    "from glob import glob\n",
    "\n",
    "#np.random.seed(5)"
   ]
  },
  {
   "cell_type": "code",
   "execution_count": 31,
   "metadata": {},
   "outputs": [
    {
     "name": "stdout",
     "output_type": "stream",
     "text": [
      "Found 7200 images belonging to 8 classes.\n",
      "Found 800 images belonging to 8 classes.\n"
     ]
    }
   ],
   "source": [
    "train_dir = os.path.join('./data_origin/train/')\n",
    "test_dir = os.path.join('./data_origin/test')\n",
    "\n",
    "#train_datagen = ImageDataGenerator(rescale=1./255, validation_split=0.1)\n",
    "train_datagen = ImageDataGenerator(\n",
    "      rescale=1./255)      # 영상의 전체 픽셀을 255로 나눈다 - 영상이 0~1사이의 범위를 가지게 된다(normalization)\n",
    "#      rotation_range=40,\n",
    " #     width_shift_range=0.2,\n",
    "  #    height_shift_range=0.2,\n",
    "   #   shear_range=0.2,\n",
    "    #  zoom_range=0.2,\n",
    "     # horizontal_flip=True,\n",
    "      #fill_mode='nearest')\n",
    "train_generator = train_datagen.flow_from_directory(train_dir,\n",
    "                                                   target_size=(90,72),\n",
    "                                                   batch_size=100,\n",
    "                                                   class_mode='categorical')\n",
    "\n",
    "test_datagen = ImageDataGenerator(rescale=1./255)\n",
    "test_generator = test_datagen.flow_from_directory(test_dir,\n",
    "                                                 target_size=(90,72),\n",
    "                                                 batch_size=10,\n",
    "                                                 class_mode='categorical')\n"
   ]
  },
  {
   "cell_type": "code",
   "execution_count": 32,
   "metadata": {},
   "outputs": [
    {
     "name": "stdout",
     "output_type": "stream",
     "text": [
      "배치 데이터 크기: (100, 90, 72, 3)\n",
      "배치 레이블 크기: (100, 8)\n"
     ]
    }
   ],
   "source": [
    "for data_batch, labels_batch in train_generator:\n",
    "    print('배치 데이터 크기:', data_batch.shape)\n",
    "    print('배치 레이블 크기:', labels_batch.shape)\n",
    "    break"
   ]
  },
  {
   "cell_type": "code",
   "execution_count": 33,
   "metadata": {},
   "outputs": [],
   "source": [
    "model = Sequential()\n",
    "model.add(Conv2D(32, kernel_size=(3,3),\n",
    "                activation='relu',\n",
    "                input_shape=(90,72,3)))\n",
    "model.add(Conv2D(64, (3,3), activation='relu'))\n",
    "model.add(MaxPooling2D(pool_size=(2,2)))\n",
    "\n",
    "model.add(Flatten())\n",
    "model.add(Dense(128, activation='relu'))\n",
    "model.add(Dense(8, activation='softmax'))"
   ]
  },
  {
   "cell_type": "code",
   "execution_count": 34,
   "metadata": {},
   "outputs": [
    {
     "name": "stdout",
     "output_type": "stream",
     "text": [
      "_________________________________________________________________\n",
      "Layer (type)                 Output Shape              Param #   \n",
      "=================================================================\n",
      "conv2d_13 (Conv2D)           (None, 88, 70, 32)        896       \n",
      "_________________________________________________________________\n",
      "conv2d_14 (Conv2D)           (None, 86, 68, 64)        18496     \n",
      "_________________________________________________________________\n",
      "max_pooling2d_7 (MaxPooling2 (None, 43, 34, 64)        0         \n",
      "_________________________________________________________________\n",
      "flatten_7 (Flatten)          (None, 93568)             0         \n",
      "_________________________________________________________________\n",
      "dense_16 (Dense)             (None, 128)               11976832  \n",
      "_________________________________________________________________\n",
      "dense_17 (Dense)             (None, 8)                 1032      \n",
      "=================================================================\n",
      "Total params: 11,997,256\n",
      "Trainable params: 11,997,256\n",
      "Non-trainable params: 0\n",
      "_________________________________________________________________\n"
     ]
    }
   ],
   "source": [
    "model.summary()"
   ]
  },
  {
   "cell_type": "code",
   "execution_count": 35,
   "metadata": {},
   "outputs": [],
   "source": [
    "model.compile(loss='categorical_crossentropy',\n",
    "             optimizer='adam',\n",
    "             metrics=['acc'])"
   ]
  },
  {
   "cell_type": "code",
   "execution_count": 36,
   "metadata": {},
   "outputs": [
    {
     "name": "stdout",
     "output_type": "stream",
     "text": [
      "Epoch 1/10\n",
      "20/20 [==============================] - 47s 2s/step - loss: 1.8318 - acc: 0.4080 - val_loss: 0.9248 - val_acc: 0.5360\n",
      "Epoch 2/10\n",
      "20/20 [==============================] - 33s 2s/step - loss: 0.9175 - acc: 0.5800 - val_loss: 0.7930 - val_acc: 0.6510\n",
      "Epoch 3/10\n",
      "20/20 [==============================] - 32s 2s/step - loss: 0.7794 - acc: 0.6520 - val_loss: 0.6810 - val_acc: 0.6610\n",
      "Epoch 4/10\n",
      "20/20 [==============================] - 33s 2s/step - loss: 0.6723 - acc: 0.7065 - val_loss: 0.6095 - val_acc: 0.7180\n",
      "Epoch 5/10\n",
      "20/20 [==============================] - 32s 2s/step - loss: 0.6293 - acc: 0.7230 - val_loss: 0.5932 - val_acc: 0.7200\n",
      "Epoch 6/10\n",
      "20/20 [==============================] - 33s 2s/step - loss: 0.5907 - acc: 0.7430 - val_loss: 0.6645 - val_acc: 0.7090\n",
      "Epoch 7/10\n",
      "20/20 [==============================] - 32s 2s/step - loss: 0.5999 - acc: 0.7255 - val_loss: 0.5977 - val_acc: 0.7210\n",
      "Epoch 8/10\n",
      "20/20 [==============================] - 32s 2s/step - loss: 0.5326 - acc: 0.7685 - val_loss: 0.5177 - val_acc: 0.7490\n",
      "Epoch 9/10\n",
      "20/20 [==============================] - 33s 2s/step - loss: 0.5086 - acc: 0.7810 - val_loss: 0.5878 - val_acc: 0.7340\n",
      "Epoch 10/10\n",
      "20/20 [==============================] - 33s 2s/step - loss: 0.4976 - acc: 0.7895 - val_loss: 0.5239 - val_acc: 0.7770\n"
     ]
    }
   ],
   "source": [
    "hist = model.fit_generator(train_generator,\n",
    "                           steps_per_epoch=20,\n",
    "                           epochs=10,\n",
    "                           validation_data=test_generator,\n",
    "                           validation_steps=100)"
   ]
  },
  {
   "cell_type": "code",
   "execution_count": 37,
   "metadata": {},
   "outputs": [
    {
     "name": "stdout",
     "output_type": "stream",
     "text": [
      "[0.4281902343034744, 0.8199999988079071]\n"
     ]
    }
   ],
   "source": [
    "scores = model.evaluate_generator(test_generator, steps=10)\n",
    "print(scores)"
   ]
  },
  {
   "cell_type": "code",
   "execution_count": null,
   "metadata": {},
   "outputs": [],
   "source": []
  }
 ],
 "metadata": {
  "kernelspec": {
   "display_name": "Python 3",
   "language": "python",
   "name": "python3"
  },
  "language_info": {
   "codemirror_mode": {
    "name": "ipython",
    "version": 3
   },
   "file_extension": ".py",
   "mimetype": "text/x-python",
   "name": "python",
   "nbconvert_exporter": "python",
   "pygments_lexer": "ipython3",
   "version": "3.7.4"
  }
 },
 "nbformat": 4,
 "nbformat_minor": 4
}
