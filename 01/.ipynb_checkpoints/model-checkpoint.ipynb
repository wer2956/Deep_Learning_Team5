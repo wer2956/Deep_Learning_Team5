{
 "cells": [
  {
   "cell_type": "code",
   "execution_count": 1,
   "metadata": {},
   "outputs": [
    {
     "name": "stderr",
     "output_type": "stream",
     "text": [
      "Using TensorFlow backend.\n"
     ]
    }
   ],
   "source": [
    "import os\n",
    "from keras.preprocessing import image\n",
    "import matplotlib.pyplot as plt \n",
    "import numpy as np\n",
    "from keras.utils.np_utils import to_categorical\n",
    "import random,shutil\n",
    "from keras.models import Sequential\n",
    "from keras.layers import Dropout,Conv2D,Flatten,Dense, MaxPooling2D, BatchNormalization\n",
    "from keras.models import load_model"
   ]
  },
  {
   "cell_type": "code",
   "execution_count": null,
   "metadata": {},
   "outputs": [],
   "source": [
    "def generator(dir,\n",
    "              gen=image.ImageDataGenerator(rescale=1./255),\n",
    "              shuffle=True,\n",
    "              batch_size=1,\n",
    "              target_size=(24,24),\n",
    "              class_mode='categorical' ):\n",
    "\n",
    "    return gen.flow_from_directory(dir,\n",
    "                                   batch_size=batch_size,\n",
    "                                   shuffle=shuffle,\n",
    "                                   color_mode='grayscale',\n",
    "                                   class_mode=class_mode,\n",
    "                                   target_size=target_size)\n",
    "\n",
    "BS= 32\n",
    "TS=(24,24)\n",
    "train_batch= generator('data/train',\n",
    "                       shuffle=True, \n",
    "                       batch_size=BS,\n",
    "                       target_size=TS)\n",
    "valid_batch= generator('data/valid',\n",
    "                       shuffle=True, \n",
    "                       batch_size=BS,\n",
    "                       target_size=TS)\n",
    "SPE= len(train_batch.classes)//BS\n",
    "VS = len(valid_batch.classes)//BS\n",
    "print(SPE,VS)\n",
    "\n",
    "\n",
    "# img,labels= next(train_batch)\n",
    "# print(img.shape)"
   ]
  },
  {
   "cell_type": "code",
   "execution_count": null,
   "metadata": {},
   "outputs": [],
   "source": [
    "model = Sequential([\n",
    "    Conv2D(32, kernel_size=(3, 3), activation='relu', input_shape=(24,24,1)),\n",
    "    MaxPooling2D(pool_size=(1,1)),\n",
    "    Conv2D(32,(3,3),activation='relu'),    #32 convolution filters used each of size 3x3\n",
    "    MaxPooling2D(pool_size=(1,1)), \n",
    "    Conv2D(64, (3, 3), activation='relu'), #64 convolution filters used each of size 3x3\n",
    "    MaxPooling2D(pool_size=(1,1)),         #choose the best features via pooling\n",
    "   \n",
    "#randomly turn neurons on and off to improve convergence\n",
    "    Dropout(0.25),\n",
    "    Flatten(),                     #flatten since too many dimensions, we only want a classification output\n",
    "    Dense(128, activation='relu'), #fully connected to get all relevant data\n",
    "    Dropout(0.5),                  #one more dropout for convergence' sake :) \n",
    "    Dense(2, activation='softmax') #output a softmax to squash the matrix into output probabilities\n",
    "])"
   ]
  },
  {
   "cell_type": "code",
   "execution_count": null,
   "metadata": {},
   "outputs": [],
   "source": [
    "model.compile(optimizer='adam',\n",
    "              loss='categorical_crossentropy',\n",
    "              metrics=['accuracy'])\n",
    "\n",
    "model.fit_generator(train_batch, \n",
    "                    validation_data=valid_batch,\n",
    "                    epochs=15,\n",
    "                    steps_per_epoch=SPE,\n",
    "                    validation_steps=VS)\n",
    "\n",
    "model.save('models/cnnCat2.h5', overwrite=True)"
   ]
  }
 ],
 "metadata": {
  "kernelspec": {
   "display_name": "Python 3",
   "language": "python",
   "name": "python3"
  },
  "language_info": {
   "codemirror_mode": {
    "name": "ipython",
    "version": 3
   },
   "file_extension": ".py",
   "mimetype": "text/x-python",
   "name": "python",
   "nbconvert_exporter": "python",
   "pygments_lexer": "ipython3",
   "version": "3.7.5"
  }
 },
 "nbformat": 4,
 "nbformat_minor": 2
}
