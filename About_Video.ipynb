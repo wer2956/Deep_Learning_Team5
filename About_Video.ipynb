{
 "cells": [
  {
   "cell_type": "markdown",
   "metadata": {},
   "source": [
    "## 1. Camera로부터 영상 재생\n",
    "Camera로부터 영상을 읽어, 화면에 보여주기 위해서 아래와 같은 순서로 진행을 합니다.  \n",
    "\n",
    "* VideoCapture Object를 생성합니다. 변수로는 camera device index나 동영상 파일명을 넘겨줍니다. 일반적으로 0 이면 Camera와 연결이 됩니다.\n",
    "* Loop를 돌면서 frame을 읽어 들입니다.\n",
    "* 읽은 frame에 대해서 변환작업을 수행한 후, 화면에 보여줍니다.\n",
    "* 영상 재생이 끝나면, VideoCapure Object를 release하고 window를 닫습니다.\n",
    "* 아래 예제는 동영상을 읽어 grayscale로 변환 후 재생하는 예제입니다.  \n",
    "  \n",
    "1) cap 이 정상적으로 open이 되었는지 확인하기 위해서 cap.isOpen() 으로 확인가능  \n",
    "2) cap.get(prodId)/cap.set(propId, value)을 통해서 속성 변경이 가능.  \n",
    "3) ret : frame capture결과(boolean)  \n",
    "4) frame : Capture한 frame  "
   ]
  },
  {
   "cell_type": "code",
   "execution_count": 21,
   "metadata": {},
   "outputs": [],
   "source": [
    "import cv2\n",
    "import numpy as np\n",
    "import matplotlib.pyplot as plt"
   ]
  },
  {
   "cell_type": "code",
   "execution_count": 28,
   "metadata": {},
   "outputs": [],
   "source": [
    "cap = cv2.VideoCapture(0)\n",
    "\n",
    "# print('width: {0}, height: {1}'.format(cap.get(3), cap.get(4))) # 너비 :3, 높이 : 4\n",
    "# cap.set(3,320)\n",
    "# cap.set(4,240)\n",
    "\n",
    "while(True):\n",
    "    ret, frame = cap.read() # ret : 프레임캡처 결과(Treu, False), frame : 캡퍼한 프레임\n",
    "    \n",
    "    if ret:\n",
    "        gray = cv2.cvtColor(frame, cv2.COLOR_BGR2GRAY) # 이미지를 Grayscale로 변환한다\n",
    "        cv2.imshow('frame', gray)\n",
    "        if cv2.waitKey(1) & 0xFF == ord('q'):\n",
    "            break\n",
    "\n",
    "cap.release()\n",
    "cv2.destroyAllWindows()"
   ]
  },
  {
   "cell_type": "markdown",
   "metadata": {},
   "source": [
    "## 2. File로부터 영상 재생\n",
    "* File로 부터 동영상 재생도 Camera에서 영상 재생과 동일합니다.  \n",
    "* 동영상 재생시에는 해당 동영상의 코덱이 설치되어 있어야 합니다."
   ]
  },
  {
   "cell_type": "code",
   "execution_count": 45,
   "metadata": {},
   "outputs": [],
   "source": [
    "cap = cv2.VideoCapture('output.avi')\n",
    "while(cap.isOpened()):\n",
    "    ret, frame = cap.read()\n",
    "    gray = cv2.cvtColor(frame, cv2.COLOR_BGR2GRAY)\n",
    "    cv2.imshow('frame', gray)\n",
    "    \n",
    "    if cv2.waitKey(0) & 0xFF == ord('q'):\n",
    "        break\n",
    "\n",
    "cap.release()\n",
    "cv2.destroyAllWindows()"
   ]
  },
  {
   "cell_type": "markdown",
   "metadata": {},
   "source": [
    "## 3. 영상 저장\n",
    "* 영상을 저장하기 위해서는 `cv2.VideoWriter()` Object를 생성해야 합니다\n",
    "* `cv2.VideoWriter(outputFile, fourcc, frame, size)`\n",
    " * outputFile (str) – 저장될 파일명\n",
    " * fourcc – Codec정보. cv2.VideoWriter_fourcc()\n",
    " * frame (float) – 초당 저장될 frame\n",
    " * size (list) – 저장될 사이즈(ex; 640, 480)\n",
    "* fourcc정보는 `cv2.VideoWriter_fourcc('M','J','P','G')` 또는 `cv2.VideoWriter_fourcc(*'MJPG)` 와 같이 표현할 수 있습니다.\n",
    "* 각 OS마다 지원하는 codec 다릅니다. (Windows는 XVID)"
   ]
  },
  {
   "cell_type": "code",
   "execution_count": 46,
   "metadata": {},
   "outputs": [],
   "source": [
    "cap = cv2.VideoCapture(0)\n",
    "fourcc = cv2.VideoWriter_fourcc(*'XVID')\n",
    "out = cv2.VideoWriter('captured.avi', fourcc, 20.0, (640,480))\n",
    "\n",
    "while(cap.isOpened()):\n",
    "    ret, frame = cap.read()\n",
    "    if ret == True:\n",
    "        frame = cv2.flip(frame, 1) # 이미지 반전 -> 0:상하, 1:좌우\n",
    "        out.write(frame)\n",
    "        cv2.imshow('frame', frame)\n",
    "        \n",
    "        if cv2.waitKey(1) & 0xFF == ord('q'):\n",
    "            break\n",
    "    else:\n",
    "        break\n",
    "\n",
    "cap.release()\n",
    "out.release()\n",
    "cv2.destroyAllWindows()"
   ]
  },
  {
   "cell_type": "markdown",
   "metadata": {},
   "source": [
    "## 강의자료"
   ]
  },
  {
   "cell_type": "code",
   "execution_count": 31,
   "metadata": {},
   "outputs": [],
   "source": [
    "import cv2\n",
    "import numpy as np\n",
    "\n",
    "cap = cv2.VideoCapture(0)\n",
    "while(True):\n",
    "    ret, frame = cap.read()\n",
    "    if ret == False:\n",
    "        print('Unable to Open')\n",
    "        break\n",
    "    \n",
    "    gray = cv2.cvtColor(frame, cv2.COLOR_BGR2GRAY)\n",
    "    cv2.imshow('frame', gray)\n",
    "    if cv2.waitKey(1) & 0xFF == ord('q'):\n",
    "        break\n",
    "\n",
    "cap.release()\n",
    "cv2.destroyAllWindows()"
   ]
  },
  {
   "cell_type": "code",
   "execution_count": 32,
   "metadata": {},
   "outputs": [],
   "source": [
    "import cv2\n",
    "import numpy as np\n",
    "\n",
    "cap = cv2.VideoCapture(0)\n",
    "fourcc = cv2.VideoWriter_fourcc(*'XVID')\n",
    "out = cv2.VideoWriter('output.avi', fourcc, 20.0, (640,480))\n",
    "\n",
    "while(cap.isOpened()):\n",
    "    ret, frame = cap.read()\n",
    "    if ret == True:\n",
    "        frame = cv2.flip(frame, 1)\n",
    "        out.write(frame)\n",
    "        cv2.imshow('frame', frame)\n",
    "        \n",
    "        if cv2.waitKey(1) & 0xFF == ord('q'):\n",
    "            break\n",
    "    else: \n",
    "        break\n",
    "\n",
    "cap.release()\n",
    "out.release()\n",
    "cv2.destroyAllWindows()"
   ]
  },
  {
   "cell_type": "code",
   "execution_count": null,
   "metadata": {},
   "outputs": [],
   "source": []
  }
 ],
 "metadata": {
  "kernelspec": {
   "display_name": "Python 3",
   "language": "python",
   "name": "python3"
  },
  "language_info": {
   "codemirror_mode": {
    "name": "ipython",
    "version": 3
   },
   "file_extension": ".py",
   "mimetype": "text/x-python",
   "name": "python",
   "nbconvert_exporter": "python",
   "pygments_lexer": "ipython3",
   "version": "3.7.4"
  }
 },
 "nbformat": 4,
 "nbformat_minor": 4
}
