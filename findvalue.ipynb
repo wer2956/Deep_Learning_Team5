{
 "cells": [
  {
   "cell_type": "code",
   "execution_count": 202,
   "metadata": {},
   "outputs": [
    {
     "name": "stdout",
     "output_type": "stream",
     "text": [
      "70 1000\n",
      "150 55\n"
     ]
    }
   ],
   "source": [
    "import cv2\n",
    "from PIL import Image\n",
    "face_cascade = cv2.CascadeClassifier('haar cascade files\\haarcascade_frontalface_alt.xml')\n",
    "eye_casecade = cv2.CascadeClassifier('haar cascade files\\haarcascade_eye.xml')\n",
    "left_eye = leye.detectMultiScale(gray)\n",
    "right_eye =  reye.detectMultiScale(gray)\n",
    "\n",
    "img = cv2.imread('images/normal_1_images/original/normal_1_images0.jpg')\n",
    "gray = cv2.cvtColor(img, cv2.COLOR_BGR2GRAY)\n",
    "faces = face_cascade.detectMultiScale(gray, 1.3,5)\n",
    "for (x,y,w,h) in faces:\n",
    "    cv2.rectangle(img, (x,y), (x+w, y+h), (255,0,0),2)\n",
    "    cropped = img[y:y + h, x:x + w]\n",
    "    roi_gray = gray[y:y+h, x:x+w]\n",
    "    roi_color = img[y:y+h, x:x+w]\n",
    "    eyes = eye_casecade.detectMultiScale(roi_gray)\n",
    "    lx = 1000\n",
    "    ly = 1000\n",
    "    lw = 0\n",
    "    lh = 0\n",
    "    rx = 0\n",
    "    ry = 0\n",
    "    rw = 0\n",
    "    rh = 0\n",
    "    for (ex, ey, ew, eh) in eyes:\n",
    "        if(ew > 20) :\n",
    "            cv2.rectangle(roi_color, (ex,ey), (ex+ew, ey+eh),(0,255,0),2)\n",
    "            if(ex< lx):\n",
    "                lx = ex\n",
    "                ly = ey\n",
    "                lw = ew\n",
    "                lh = eh\n",
    "\n",
    "            if(ex > rx):\n",
    "                rx = ex\n",
    "                ry = ey\n",
    "                rw = ew\n",
    "                rh = eh\n",
    "            #print(ex, ey, ew, eh)\n",
    "        width = rx+rw-lx\n",
    "        if(lh > rh) :\n",
    "            height = lh\n",
    "        else:\n",
    "            height = rh\n",
    "        if(ly > ry) :\n",
    "            fy = ry\n",
    "        else:\n",
    "            fy = ly\n",
    "        #print(lx, ly+lh, rx+rw, ry+rh+rw)\n",
    "        #print(width, height, fy)\n",
    "        area = (lx, fy, width, height)\n",
    "print(fy, lx)\n",
    "print(width, height)\n",
    "fy = 70\n",
    "lx = 50\n",
    "width = 150\n",
    "height = 55\n",
    "cropped2 = img[70+y:70 + 55+y, 50 - int(150/15)+x:50 + 150 + int(150/15)+x]\n",
    "cv2.imshow('Image view', cropped2)\n",
    "cv2.waitKey(0)\n",
    "cv2.destroyAllWindows()"
   ]
  },
  {
   "cell_type": "code",
   "execution_count": null,
   "metadata": {},
   "outputs": [],
   "source": []
  },
  {
   "cell_type": "code",
   "execution_count": null,
   "metadata": {},
   "outputs": [],
   "source": []
  }
 ],
 "metadata": {
  "kernelspec": {
   "display_name": "Python 3",
   "language": "python",
   "name": "python3"
  },
  "language_info": {
   "codemirror_mode": {
    "name": "ipython",
    "version": 3
   },
   "file_extension": ".py",
   "mimetype": "text/x-python",
   "name": "python",
   "nbconvert_exporter": "python",
   "pygments_lexer": "ipython3",
   "version": "3.7.4"
  }
 },
 "nbformat": 4,
 "nbformat_minor": 4
}
