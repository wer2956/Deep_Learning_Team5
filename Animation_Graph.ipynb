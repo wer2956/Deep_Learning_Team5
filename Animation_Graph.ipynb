{
 "cells": [
  {
   "cell_type": "code",
   "execution_count": 2,
   "metadata": {},
   "outputs": [
    {
     "data": {
      "image/png": "[encoded data removed]",
      "text/plain": [
       "<Figure size 432x288 with 3 Axes>"
      ]
     },
     "metadata": {
      "needs_background": "light"
     },
     "output_type": "display_data"
    }
   ],
   "source": [
    "import numpy as np\n",
    "import matplotlib.pyplot as plt\n",
    "from matplotlib.lines import Line2D\n",
    "import matplotlib.animation as animation\n",
    "\n",
    "\n",
    "class SubplotAnimation(animation.TimedAnimation):\n",
    "    def __init__(self):\n",
    "        fig = plt.figure()\n",
    "        ax1 = fig.add_subplot(1, 2, 1)\n",
    "        ax2 = fig.add_subplot(2, 2, 2)\n",
    "        ax3 = fig.add_subplot(2, 2, 4)\n",
    "\n",
    "        self.t = np.linspace(0, 80, 400)\n",
    "        self.x = np.cos(2 * np.pi * self.t / 10.)\n",
    "        self.y = np.sin(2 * np.pi * self.t / 10.)\n",
    "        self.z = 10 * self.t\n",
    "\n",
    "        ax1.set_xlabel('x')\n",
    "        ax1.set_ylabel('y')\n",
    "        self.line1 = Line2D([], [], color='black')\n",
    "        self.line1a = Line2D([], [], color='red', linewidth=2)\n",
    "        self.line1e = Line2D(\n",
    "            [], [], color='red', marker='o', markeredgecolor='r')\n",
    "        ax1.add_line(self.line1)\n",
    "        ax1.add_line(self.line1a)\n",
    "        ax1.add_line(self.line1e)\n",
    "        ax1.set_xlim(-1, 1)\n",
    "        ax1.set_ylim(-2, 2)\n",
    "        ax1.set_aspect('equal', 'datalim')\n",
    "\n",
    "        ax2.set_xlabel('y')\n",
    "        ax2.set_ylabel('z')\n",
    "        self.line2 = Line2D([], [], color='black')\n",
    "        self.line2a = Line2D([], [], color='red', linewidth=2)\n",
    "        self.line2e = Line2D(\n",
    "            [], [], color='red', marker='o', markeredgecolor='r')\n",
    "        ax2.add_line(self.line2)\n",
    "        ax2.add_line(self.line2a)\n",
    "        ax2.add_line(self.line2e)\n",
    "        ax2.set_xlim(-1, 1)\n",
    "        ax2.set_ylim(0, 800)\n",
    "\n",
    "        ax3.set_xlabel('x')\n",
    "        ax3.set_ylabel('z')\n",
    "        self.line3 = Line2D([], [], color='black')\n",
    "        self.line3a = Line2D([], [], color='red', linewidth=2)\n",
    "        self.line3e = Line2D(\n",
    "            [], [], color='red', marker='o', markeredgecolor='r')\n",
    "        ax3.add_line(self.line3)\n",
    "        ax3.add_line(self.line3a)\n",
    "        ax3.add_line(self.line3e)\n",
    "        ax3.set_xlim(-1, 1)\n",
    "        ax3.set_ylim(0, 800)\n",
    "\n",
    "        animation.TimedAnimation.__init__(self, fig, interval=50, blit=True)\n",
    "\n",
    "    def _draw_frame(self, framedata):\n",
    "        i = framedata\n",
    "        head = i - 1\n",
    "        head_slice = (self.t > self.t[i] - 1.0) & (self.t < self.t[i])\n",
    "\n",
    "        self.line1.set_data(self.x[:i], self.y[:i])\n",
    "        self.line1a.set_data(self.x[head_slice], self.y[head_slice])\n",
    "        self.line1e.set_data(self.x[head], self.y[head])\n",
    "\n",
    "        self.line2.set_data(self.y[:i], self.z[:i])\n",
    "        self.line2a.set_data(self.y[head_slice], self.z[head_slice])\n",
    "        self.line2e.set_data(self.y[head], self.z[head])\n",
    "\n",
    "        self.line3.set_data(self.x[:i], self.z[:i])\n",
    "        self.line3a.set_data(self.x[head_slice], self.z[head_slice])\n",
    "        self.line3e.set_data(self.x[head], self.z[head])\n",
    "\n",
    "        self._drawn_artists = [self.line1, self.line1a, self.line1e,\n",
    "                               self.line2, self.line2a, self.line2e,\n",
    "                               self.line3, self.line3a, self.line3e]\n",
    "\n",
    "    def new_frame_seq(self):\n",
    "        return iter(range(self.t.size))\n",
    "\n",
    "    def _init_draw(self):\n",
    "        lines = [self.line1, self.line1a, self.line1e,\n",
    "                 self.line2, self.line2a, self.line2e,\n",
    "                 self.line3, self.line3a, self.line3e]\n",
    "        for l in lines:\n",
    "            l.set_data([], [])\n",
    "\n",
    "ani = SubplotAnimation()\n",
    "# ani.save('test_sub.mp4')\n",
    "plt.show()"
   ]
  },
  {
   "cell_type": "code",
   "execution_count": 3,
   "metadata": {},
   "outputs": [
    {
     "data": {
      "image/png": "[encoded data removed]",
      "text/plain": [
       "<Figure size 432x288 with 1 Axes>"
      ]
     },
     "metadata": {
      "needs_background": "light"
     },
     "output_type": "display_data"
    }
   ],
   "source": [
    "import numpy as np\n",
    "from matplotlib.lines import Line2D\n",
    "import matplotlib.pyplot as plt\n",
    "import matplotlib.animation as animation\n",
    "\n",
    "\n",
    "class Scope(object):\n",
    "    def __init__(self, ax, maxt=2, dt=0.02):\n",
    "        self.ax = ax\n",
    "        self.dt = dt\n",
    "        self.maxt = maxt\n",
    "        self.tdata = [0]\n",
    "        self.ydata = [0]\n",
    "        self.line = Line2D(self.tdata, self.ydata)\n",
    "        self.ax.add_line(self.line)\n",
    "        self.ax.set_ylim(-.1, 1.1)\n",
    "        self.ax.set_xlim(0, self.maxt)\n",
    "\n",
    "    def update(self, y):\n",
    "        lastt = self.tdata[-1]\n",
    "        if lastt > self.tdata[0] + self.maxt:  # reset the arrays\n",
    "            self.tdata = [self.tdata[-1]]\n",
    "            self.ydata = [self.ydata[-1]]\n",
    "            self.ax.set_xlim(self.tdata[0], self.tdata[0] + self.maxt)\n",
    "            self.ax.figure.canvas.draw()\n",
    "\n",
    "        t = self.tdata[-1] + self.dt\n",
    "        self.tdata.append(t)\n",
    "        self.ydata.append(y)\n",
    "        self.line.set_data(self.tdata, self.ydata)\n",
    "        return self.line,\n",
    "\n",
    "\n",
    "def emitter(p=0.03):\n",
    "    'return a random value with probability p, else 0'\n",
    "    while True:\n",
    "        v = np.random.rand(1)\n",
    "        if v > p:\n",
    "            yield 0.\n",
    "        else:\n",
    "            yield np.random.rand(1)\n",
    "\n",
    "fig, ax = plt.subplots()\n",
    "scope = Scope(ax)\n",
    "\n",
    "# pass a generator in \"emitter\" to produce data for the update func\n",
    "ani = animation.FuncAnimation(fig, scope.update, emitter, interval=10,\n",
    "                              blit=True)\n",
    "\n",
    "\n",
    "plt.show()"
   ]
  },
  {
   "cell_type": "code",
   "execution_count": null,
   "metadata": {},
   "outputs": [],
   "source": []
  }
 ],
 "metadata": {
  "kernelspec": {
   "display_name": "Python 3",
   "language": "python",
   "name": "python3"
  },
  "language_info": {
   "codemirror_mode": {
    "name": "ipython",
    "version": 3
   },
   "file_extension": ".py",
   "mimetype": "text/x-python",
   "name": "python",
   "nbconvert_exporter": "python",
   "pygments_lexer": "ipython3",
   "version": "3.7.5"
  }
 },
 "nbformat": 4,
 "nbformat_minor": 2
}
