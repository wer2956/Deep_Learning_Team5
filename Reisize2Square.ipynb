{
 "cells": [
  {
   "cell_type": "code",
   "execution_count": 1,
   "metadata": {},
   "outputs": [
    {
     "name": "stderr",
     "output_type": "stream",
     "text": [
      "Using TensorFlow backend.\n"
     ]
    }
   ],
   "source": [
    "import numpy as np\n",
    "import matplotlib.pyplot as plt\n",
    "from keras.models import Sequential\n",
    "from keras.layers import Dense, Flatten\n",
    "from keras.layers.convolutional import Conv2D, MaxPooling2D\n",
    "from keras.preprocessing.image import ImageDataGenerator\n",
    "from PIL import Image\n",
    "import os\n",
    "import glob\n",
    "import os.path"
   ]
  },
  {
   "cell_type": "code",
   "execution_count": 2,
   "metadata": {},
   "outputs": [
    {
     "name": "stdout",
     "output_type": "stream",
     "text": [
      "['dyed-lifted-polyps', 'dyed-resection-margins', 'esophagitis', 'normal-cecum', 'normal-pylorus', 'normal-z-line', 'polyps', 'ulcerative-colitis']\n"
     ]
    }
   ],
   "source": [
    "train_dir = os.path.join('./data_origin/train')\n",
    "test_dir = os.path.join('./data_origin/test')\n",
    "\n",
    "imsidir = os.path.join('./data_origin/train')\n",
    "folder_list = os.listdir(imsidir)\n",
    "categories = folder_list\n",
    "print(folder_list)"
   ]
  },
  {
   "cell_type": "code",
   "execution_count": 3,
   "metadata": {},
   "outputs": [
    {
     "name": "stdout",
     "output_type": "stream",
     "text": [
      "./data_origin/train/polyps\\00072d5f-7cd8-434c-8a5a-1a0bb2c9711d.jpg (1350, 1064)\n"
     ]
    }
   ],
   "source": [
    "# width, height 체크\n",
    "import os\n",
    "from PIL import Image\n",
    "imsidir = os.path.join('./data_origin/train/polyps')\n",
    "folder_list = os.listdir(imsidir)\n",
    "for filename in folder_list:\n",
    "    imagename = os.path.join(imsidir,filename)\n",
    "    img = Image.open(imagename)\n",
    "    if img.size != (720, 576):\n",
    "        #print(img.filename, img.size)\n",
    "        if img.size != (1280, 1024):\n",
    "            #print(img.filename, img.size)\n",
    "            if img.size != (1920, 1072):\n",
    "                print(img.filename, img.size)"
   ]
  },
  {
   "cell_type": "code",
   "execution_count": null,
   "metadata": {},
   "outputs": [],
   "source": [
    "import cv2\n",
    "\n",
    "folder_list = os.listdir(train_dir)\n",
    "for foldername in folder_list:\n",
    "    imsidir = os.path.join(train_dir, foldername)\n",
    "    image_list = os.listdir(imsidir)\n",
    "    for filename in image_list:\n",
    "        imagename = os.path.join(imsidir,filename)\n",
    "        img = Image.open(imagename)\n",
    "        width, height = img.size\n",
    "        # 512 x 512 통일\n",
    "        if width == 720:\n",
    "            area = (149, 32, 661, 544)\n",
    "            cropped_img = img.crop(area)\n",
    "            cropped_img.save(imagename)\n",
    "        if width == 1920:\n",
    "            w, h = img.size\n",
    "            w = int(w/2)\n",
    "            h = int(h/2)\n",
    "            img_r = img.resize((w,h), resample=0, box=None)\n",
    "            area = (309, 12, 821, 524)\n",
    "            cropped_img = img_r.crop(area)\n",
    "            cropped_img.save(imagename)\n",
    "        if width == 1280:\n",
    "            w, h = img.size\n",
    "            w = int(w/2)\n",
    "            h = int(h/2)\n",
    "            img_r = img.resize((w,h), resample=0, box=None)\n",
    "            area = (64, 0, 576, 512)\n",
    "            cropped_img = img_r.crop(area)\n",
    "            cropped_img.save(imagename)\n",
    "        if width == 1350:\n",
    "            if height == 1080:\n",
    "                w, h = img.size\n",
    "                w = int(w/2)\n",
    "                h = int(h/2)\n",
    "                img_r = img.resize((w,h), resample=0, box=None)\n",
    "                area = (81, 14, 593, 526)\n",
    "                cropped_img = img_r.crop(area)\n",
    "                cropped_img.save(imagename)\n",
    "            else:\n",
    "                w, h = img.size\n",
    "                w = int(w/2)\n",
    "                h = int(h/2)\n",
    "                img_r = img.resize((w,h), resample=0, box=None)\n",
    "                area = (81, 10, 593, 522)\n",
    "                cropped_img = img_r.crop(area)\n",
    "                cropped_img.save(imagename)\n",
    "                \n",
    "        if width == 576:\n",
    "            w, h = img.size\n",
    "            img_r = img.resize((w,h), resample=0, box=None)\n",
    "            area = (39, 39, 551, 551)\n",
    "            cropped_img = img_r.crop(area)\n",
    "            cropped_img.save(imagename)"
   ]
  },
  {
   "cell_type": "code",
   "execution_count": null,
   "metadata": {},
   "outputs": [],
   "source": [
    "img.size"
   ]
  },
  {
   "cell_type": "code",
   "execution_count": null,
   "metadata": {},
   "outputs": [],
   "source": [
    "img"
   ]
  },
  {
   "cell_type": "code",
   "execution_count": null,
   "metadata": {},
   "outputs": [],
   "source": [
    "import cv2\n",
    "\n",
    "folder_list = os.listdir(test_dir)\n",
    "for foldername in folder_list:\n",
    "    imsidir = os.path.join(test_dir, foldername)\n",
    "    image_list = os.listdir(imsidir)\n",
    "    for filename in image_list:\n",
    "        imagename = os.path.join(imsidir,filename)\n",
    "        img = Image.open(imagename)\n",
    "        width, height = img.size\n",
    "        # 512 x 512 통일\n",
    "        if width == 720:\n",
    "            area = (149, 32, 661, 544)\n",
    "            cropped_img = img.crop(area)\n",
    "            cropped_img.save(imagename)\n",
    "        if width == 1920:\n",
    "            w, h = img.size\n",
    "            w = int(w/2)\n",
    "            h = int(h/2)\n",
    "            img_r = img.resize((w,h), resample=0, box=None)\n",
    "            area = (309, 12, 821, 524)\n",
    "            cropped_img = img_r.crop(area)\n",
    "            cropped_img.save(imagename)\n",
    "        if width == 1280:\n",
    "            w, h = img.size\n",
    "            w = int(w/2)\n",
    "            h = int(h/2)\n",
    "            img_r = img.resize((w,h), resample=0, box=None)\n",
    "            area = (64, 0, 576, 512)\n",
    "            cropped_img = img_r.crop(area)\n",
    "            cropped_img.save(imagename)\n",
    "        if width == 1350:\n",
    "            if height == 1080:\n",
    "                w, h = img.size\n",
    "                w = int(w/2)\n",
    "                h = int(h/2)\n",
    "                img_r = img.resize((w,h), resample=0, box=None)\n",
    "                area = (81, 14, 593, 526)\n",
    "                cropped_img = img_r.crop(area)\n",
    "                cropped_img.save(imagename)\n",
    "            else:\n",
    "                w, h = img.size\n",
    "                w = int(w/2)\n",
    "                h = int(h/2)\n",
    "                img_r = img.resize((w,h), resample=0, box=None)\n",
    "                area = (81, 10, 593, 522)\n",
    "                cropped_img = img_r.crop(area)\n",
    "                cropped_img.save(imagename)\n",
    "                \n",
    "        if width == 576:\n",
    "            w, h = img.size\n",
    "            img_r = img.resize((w,h), resample=0, box=None)\n",
    "            area = (39, 39, 551, 551)\n",
    "            cropped_img = img_r.crop(area)\n",
    "            cropped_img.save(imagename)"
   ]
  },
  {
   "cell_type": "code",
   "execution_count": null,
   "metadata": {},
   "outputs": [],
   "source": [
    "img.size"
   ]
  },
  {
   "cell_type": "code",
   "execution_count": null,
   "metadata": {},
   "outputs": [],
   "source": [
    "img"
   ]
  }
 ],
 "metadata": {
  "kernelspec": {
   "display_name": "Python 3",
   "language": "python",
   "name": "python3"
  },
  "language_info": {
   "codemirror_mode": {
    "name": "ipython",
    "version": 3
   },
   "file_extension": ".py",
   "mimetype": "text/x-python",
   "name": "python",
   "nbconvert_exporter": "python",
   "pygments_lexer": "ipython3",
   "version": "3.7.4"
  }
 },
 "nbformat": 4,
 "nbformat_minor": 2
}
