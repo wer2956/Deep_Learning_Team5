{
 "cells": [
  {
   "cell_type": "code",
   "execution_count": 1,
   "metadata": {},
   "outputs": [
    {
     "name": "stderr",
     "output_type": "stream",
     "text": [
      "Using TensorFlow backend.\n"
     ]
    }
   ],
   "source": [
    "import os\n",
    "from keras.preprocessing import image\n",
    "import matplotlib.pyplot as plt \n",
    "import numpy as np\n",
    "from keras.utils.np_utils import to_categorical\n",
    "import random,shutil\n",
    "from keras.models import Sequential\n",
    "from keras.layers import Dropout,Conv2D,Flatten,Dense, MaxPooling2D, BatchNormalization\n",
    "from keras.models import load_model"
   ]
  },
  {
   "cell_type": "code",
   "execution_count": 2,
   "metadata": {},
   "outputs": [
    {
     "name": "stdout",
     "output_type": "stream",
     "text": [
      "Found 5422 images belonging to 2 classes.\n",
      "Found 1160 images belonging to 2 classes.\n",
      "169 36\n"
     ]
    }
   ],
   "source": [
    "def generator(dir,\n",
    "              gen=image.ImageDataGenerator(rescale=1./255),\n",
    "              shuffle=True,\n",
    "              batch_size=1,\n",
    "              target_size=(24,24),\n",
    "              class_mode='categorical' ):\n",
    "\n",
    "    return gen.flow_from_directory(dir,\n",
    "                                   batch_size=batch_size,\n",
    "                                   shuffle=shuffle,\n",
    "                                   color_mode='grayscale',\n",
    "                                   class_mode=class_mode,\n",
    "                                   target_size=target_size)\n",
    "\n",
    "BS= 32\n",
    "TS=(24,24)\n",
    "train_batch= generator('a2a_data/train',\n",
    "                       shuffle=True, \n",
    "                       batch_size=BS,\n",
    "                       target_size=TS)\n",
    "valid_batch= generator('a2a_data/valid',\n",
    "                       shuffle=True, \n",
    "                       batch_size=BS,\n",
    "                       target_size=TS)\n",
    "SPE= len(train_batch.classes)//BS\n",
    "VS = len(valid_batch.classes)//BS\n",
    "print(SPE,VS)"
   ]
  },
  {
   "cell_type": "code",
   "execution_count": 3,
   "metadata": {},
   "outputs": [
    {
     "name": "stdout",
     "output_type": "stream",
     "text": [
      "WARNING:tensorflow:From C:\\Users\\Owner6\\Anaconda3\\envs\\keras\\lib\\site-packages\\keras\\backend\\tensorflow_backend.py:74: The name tf.get_default_graph is deprecated. Please use tf.compat.v1.get_default_graph instead.\n",
      "\n",
      "WARNING:tensorflow:From C:\\Users\\Owner6\\Anaconda3\\envs\\keras\\lib\\site-packages\\keras\\backend\\tensorflow_backend.py:519: The name tf.placeholder is deprecated. Please use tf.compat.v1.placeholder instead.\n",
      "\n",
      "WARNING:tensorflow:From C:\\Users\\Owner6\\Anaconda3\\envs\\keras\\lib\\site-packages\\keras\\backend\\tensorflow_backend.py:4140: The name tf.random_uniform is deprecated. Please use tf.random.uniform instead.\n",
      "\n",
      "WARNING:tensorflow:From C:\\Users\\Owner6\\Anaconda3\\envs\\keras\\lib\\site-packages\\keras\\backend\\tensorflow_backend.py:3978: The name tf.nn.max_pool is deprecated. Please use tf.nn.max_pool2d instead.\n",
      "\n",
      "WARNING:tensorflow:From C:\\Users\\Owner6\\Anaconda3\\envs\\keras\\lib\\site-packages\\keras\\backend\\tensorflow_backend.py:133: The name tf.placeholder_with_default is deprecated. Please use tf.compat.v1.placeholder_with_default instead.\n",
      "\n",
      "WARNING:tensorflow:From C:\\Users\\Owner6\\Anaconda3\\envs\\keras\\lib\\site-packages\\keras\\backend\\tensorflow_backend.py:3447: calling dropout (from tensorflow.python.ops.nn_ops) with keep_prob is deprecated and will be removed in a future version.\n",
      "Instructions for updating:\n",
      "Please use `rate` instead of `keep_prob`. Rate should be set to `rate = 1 - keep_prob`.\n"
     ]
    }
   ],
   "source": [
    "model = Sequential([\n",
    "    Conv2D(32, kernel_size=(3, 3), activation='relu', input_shape=(24,24,1)),\n",
    "    MaxPooling2D(pool_size=(1,1)),\n",
    "    Conv2D(32,(3,3),activation='relu'),\n",
    "    MaxPooling2D(pool_size=(1,1)), \n",
    "    Conv2D(64, (3, 3), activation='relu'),\n",
    "    MaxPooling2D(pool_size=(1,1)),\n",
    "   \n",
    "    Dropout(0.25),\n",
    "    Flatten(),\n",
    "    Dense(128, activation='relu'),\n",
    "    Dropout(0.5),\n",
    "    Dense(2, activation='softmax')\n",
    "])"
   ]
  },
  {
   "cell_type": "code",
   "execution_count": 5,
   "metadata": {
    "scrolled": true
   },
   "outputs": [
    {
     "name": "stdout",
     "output_type": "stream",
     "text": [
      "WARNING:tensorflow:From C:\\Users\\Owner6\\Anaconda3\\envs\\keras\\lib\\site-packages\\keras\\optimizers.py:790: The name tf.train.Optimizer is deprecated. Please use tf.compat.v1.train.Optimizer instead.\n",
      "\n",
      "WARNING:tensorflow:From C:\\Users\\Owner6\\Anaconda3\\envs\\keras\\lib\\site-packages\\keras\\backend\\tensorflow_backend.py:3297: The name tf.log is deprecated. Please use tf.math.log instead.\n",
      "\n",
      "WARNING:tensorflow:From C:\\Users\\Owner6\\Anaconda3\\envs\\keras\\lib\\site-packages\\tensorflow\\python\\ops\\math_grad.py:1250: add_dispatch_support.<locals>.wrapper (from tensorflow.python.ops.array_ops) is deprecated and will be removed in a future version.\n",
      "Instructions for updating:\n",
      "Use tf.where in 2.0, which has the same broadcast rule as np.where\n",
      "Epoch 1/15\n",
      "169/169 [==============================] - 20s 116ms/step - loss: 0.5293 - acc: 0.7324 - val_loss: 0.3800 - val_acc: 0.8524\n",
      "Epoch 2/15\n",
      "169/169 [==============================] - 2s 11ms/step - loss: 0.3097 - acc: 0.8711 - val_loss: 0.2053 - val_acc: 0.9211\n",
      "Epoch 3/15\n",
      "169/169 [==============================] - 2s 10ms/step - loss: 0.2028 - acc: 0.9197 - val_loss: 0.1537 - val_acc: 0.9388\n",
      "Epoch 4/15\n",
      "169/169 [==============================] - 2s 10ms/step - loss: 0.1626 - acc: 0.9353 - val_loss: 0.1906 - val_acc: 0.9291\n",
      "Epoch 5/15\n",
      "169/169 [==============================] - 2s 11ms/step - loss: 0.1257 - acc: 0.9495 - val_loss: 0.1403 - val_acc: 0.9495\n",
      "Epoch 6/15\n",
      "169/169 [==============================] - 2s 11ms/step - loss: 0.1027 - acc: 0.9622 - val_loss: 0.1439 - val_acc: 0.9477\n",
      "Epoch 7/15\n",
      "169/169 [==============================] - 2s 11ms/step - loss: 0.0986 - acc: 0.9636 - val_loss: 0.1295 - val_acc: 0.9504\n",
      "Epoch 8/15\n",
      "169/169 [==============================] - 2s 11ms/step - loss: 0.0717 - acc: 0.9745 - val_loss: 0.1299 - val_acc: 0.9530\n",
      "Epoch 9/15\n",
      "169/169 [==============================] - 2s 11ms/step - loss: 0.0633 - acc: 0.9772 - val_loss: 0.1613 - val_acc: 0.9574\n",
      "Epoch 10/15\n",
      "169/169 [==============================] - 2s 10ms/step - loss: 0.0616 - acc: 0.9791 - val_loss: 0.1466 - val_acc: 0.9601\n",
      "Epoch 11/15\n",
      "169/169 [==============================] - 2s 10ms/step - loss: 0.0689 - acc: 0.9740 - val_loss: 0.1225 - val_acc: 0.9592\n",
      "Epoch 12/15\n",
      "169/169 [==============================] - 2s 11ms/step - loss: 0.0480 - acc: 0.9809 - val_loss: 0.1387 - val_acc: 0.9645\n",
      "Epoch 13/15\n",
      "169/169 [==============================] - 2s 10ms/step - loss: 0.0465 - acc: 0.9815 - val_loss: 0.1446 - val_acc: 0.9628\n",
      "Epoch 14/15\n",
      "169/169 [==============================] - 2s 11ms/step - loss: 0.0363 - acc: 0.9868 - val_loss: 0.1318 - val_acc: 0.9557\n",
      "Epoch 15/15\n",
      "169/169 [==============================] - 2s 11ms/step - loss: 0.0355 - acc: 0.9876 - val_loss: 0.1843 - val_acc: 0.9548\n"
     ]
    }
   ],
   "source": [
    "model.compile(optimizer='adam',\n",
    "              loss='categorical_crossentropy',\n",
    "              metrics=['accuracy'])\n",
    "\n",
    "model.fit_generator(train_batch, \n",
    "                    validation_data=valid_batch,\n",
    "                    epochs=15,\n",
    "                    steps_per_epoch=SPE,\n",
    "                    validation_steps=VS)\n",
    "\n",
    "model.save('a2a_final.h5', overwrite=True)"
   ]
  },
  {
   "cell_type": "code",
   "execution_count": 6,
   "metadata": {},
   "outputs": [
    {
     "name": "stdout",
     "output_type": "stream",
     "text": [
      "[0.1573905555097991, 0.9615040858018387]\n"
     ]
    }
   ],
   "source": [
    "score = model.evaluate_generator(valid_batch, steps=500)\n",
    "print(score)"
   ]
  },
  {
   "cell_type": "code",
   "execution_count": null,
   "metadata": {},
   "outputs": [],
   "source": []
  }
 ],
 "metadata": {
  "kernelspec": {
   "display_name": "Python 3",
   "language": "python",
   "name": "python3"
  },
  "language_info": {
   "codemirror_mode": {
    "name": "ipython",
    "version": 3
   },
   "file_extension": ".py",
   "mimetype": "text/x-python",
   "name": "python",
   "nbconvert_exporter": "python",
   "pygments_lexer": "ipython3",
   "version": "3.7.4"
  }
 },
 "nbformat": 4,
 "nbformat_minor": 4
}
