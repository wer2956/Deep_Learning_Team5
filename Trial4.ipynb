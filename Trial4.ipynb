{
 "cells": [
  {
   "cell_type": "code",
   "execution_count": 1,
   "metadata": {},
   "outputs": [
    {
     "name": "stderr",
     "output_type": "stream",
     "text": [
      "Using TensorFlow backend.\n"
     ]
    }
   ],
   "source": [
    "from keras.models import Sequential\n",
    "from keras.layers import Dense, Flatten\n",
    "from keras.layers.convolutional import Conv2D, MaxPooling2D\n",
    "from keras.preprocessing.image import ImageDataGenerator\n",
    "\n",
    "import os\n",
    "import glob\n",
    "import os.path\n",
    "import numpy as np\n",
    "import matplotlib.pyplot as plt\n",
    "from PIL import Image"
   ]
  },
  {
   "cell_type": "code",
   "execution_count": 2,
   "metadata": {},
   "outputs": [
    {
     "data": {
      "text/plain": [
       "['dyed-lifted-polyps',\n",
       " 'dyed-resection-margins',\n",
       " 'esophagitis',\n",
       " 'normal-cecum',\n",
       " 'normal-pylorus',\n",
       " 'normal-z-line',\n",
       " 'polyps',\n",
       " 'ulcerative-colitis']"
      ]
     },
     "execution_count": 2,
     "metadata": {},
     "output_type": "execute_result"
    }
   ],
   "source": [
    "train_dir = os.path.join('./data_new/train')\n",
    "test_dir = os.path.join('./data_new/test')\n",
    "\n",
    "imsidir = os.path.join('./data_new/train')\n",
    "folder_list = os.listdir(imsidir)\n",
    "categories = folder_list\n",
    "\n",
    "categories"
   ]
  },
  {
   "cell_type": "code",
   "execution_count": 3,
   "metadata": {},
   "outputs": [
    {
     "name": "stdout",
     "output_type": "stream",
     "text": [
      "[1, 0, 0, 0, 0, 0, 0, 0] ./data_new/train/dyed-lifted-polyps : 900\n",
      "[0, 1, 0, 0, 0, 0, 0, 0] ./data_new/train/dyed-resection-margins : 900\n",
      "[0, 0, 1, 0, 0, 0, 0, 0] ./data_new/train/esophagitis : 900\n",
      "[0, 0, 0, 1, 0, 0, 0, 0] ./data_new/train/normal-cecum : 900\n",
      "[0, 0, 0, 0, 1, 0, 0, 0] ./data_new/train/normal-pylorus : 900\n",
      "[0, 0, 0, 0, 0, 1, 0, 0] ./data_new/train/normal-z-line : 900\n",
      "[0, 0, 0, 0, 0, 0, 1, 0] ./data_new/train/polyps : 900\n",
      "[0, 0, 0, 0, 0, 0, 0, 1] ./data_new/train/ulcerative-colitis : 900\n"
     ]
    }
   ],
   "source": [
    "image_w = 90\n",
    "image_h = 72\n",
    "X = []\n",
    "y = []\n",
    "\n",
    "for idx, cat in enumerate(categories):\n",
    "    label = [0 for i in range(len(categories))]\n",
    "    label[idx] = 1\n",
    "    image_dir = train_dir + \"/\" + cat\n",
    "    files = glob.glob(image_dir + '/*.jpg')\n",
    "    print(label, image_dir, \":\", len(files))\n",
    "    \n",
    "    for i, f in enumerate(files):\n",
    "        img = Image.open(f)\n",
    "        img = img.convert('RGB')\n",
    "        img = img.resize((image_w, image_h))\n",
    "        data = np.asarray(img)\n",
    "        X.append(data)\n",
    "        y.append(label)\n",
    "X = np.array(X)\n",
    "y = np.array(y)"
   ]
  },
  {
   "cell_type": "code",
   "execution_count": 4,
   "metadata": {},
   "outputs": [
    {
     "name": "stdout",
     "output_type": "stream",
     "text": [
      "[1, 0, 0, 0, 0, 0, 0, 0] ./data_new/test/dyed-lifted-polyps : 100\n",
      "[0, 1, 0, 0, 0, 0, 0, 0] ./data_new/test/dyed-resection-margins : 100\n",
      "[0, 0, 1, 0, 0, 0, 0, 0] ./data_new/test/esophagitis : 100\n",
      "[0, 0, 0, 1, 0, 0, 0, 0] ./data_new/test/normal-cecum : 100\n",
      "[0, 0, 0, 0, 1, 0, 0, 0] ./data_new/test/normal-pylorus : 100\n",
      "[0, 0, 0, 0, 0, 1, 0, 0] ./data_new/test/normal-z-line : 100\n",
      "[0, 0, 0, 0, 0, 0, 1, 0] ./data_new/test/polyps : 100\n",
      "[0, 0, 0, 0, 0, 0, 0, 1] ./data_new/test/ulcerative-colitis : 100\n"
     ]
    }
   ],
   "source": [
    "image_w = 90\n",
    "image_h = 72\n",
    "Xt = []\n",
    "yt = []\n",
    "\n",
    "for idx, cat in enumerate(categories):\n",
    "    label = [0 for i in range(len(categories))]\n",
    "    label[idx] = 1\n",
    "    image_dir2 = test_dir + \"/\" + cat\n",
    "    files2 = glob.glob(image_dir2 + '/*.jpg')\n",
    "    print(label, image_dir2, \":\", len(files2))\n",
    "    \n",
    "    for i, f in enumerate(files2):\n",
    "        img2 = Image.open(f)\n",
    "        img2 = img2.convert('RGB')\n",
    "        img2 = img2.resize((image_w, image_h))\n",
    "        data2 = np.asarray(img2)\n",
    "        Xt.append(data2)\n",
    "        yt.append(label)\n",
    "Xt = np.array(Xt)\n",
    "yt = np.array(yt)"
   ]
  },
  {
   "cell_type": "code",
   "execution_count": 5,
   "metadata": {
    "scrolled": true
   },
   "outputs": [
    {
     "data": {
      "image/png": "[encoded data removed]",
      "text/plain": [
       "<Figure size 432x288 with 1 Axes>"
      ]
     },
     "metadata": {
      "needs_background": "light"
     },
     "output_type": "display_data"
    }
   ],
   "source": [
    "plt.figure()\n",
    "plt.imshow(data), plt.title(image_dir)\n",
    "plt.show()"
   ]
  },
  {
   "cell_type": "code",
   "execution_count": 6,
   "metadata": {},
   "outputs": [
    {
     "name": "stdout",
     "output_type": "stream",
     "text": [
      "배치 데이터 크기: (720, 72, 90, 3)\n",
      "배치 레이블 크기: (720, 8)\n"
     ]
    }
   ],
   "source": [
    "train_datagen = ImageDataGenerator(rescale=1./255)\n",
    "train_generator = train_datagen.flow(X, y, batch_size=720)\n",
    "\n",
    "test_datagen = ImageDataGenerator(rescale=1./255)\n",
    "test_generator = test_datagen.flow(Xt, yt, batch_size=1)\n",
    "\n",
    "for data_batch, labels_batch in train_generator:\n",
    "    print('배치 데이터 크기:', data_batch.shape)\n",
    "    print('배치 레이블 크기:', labels_batch.shape)\n",
    "    break"
   ]
  },
  {
   "cell_type": "code",
   "execution_count": 7,
   "metadata": {},
   "outputs": [
    {
     "name": "stderr",
     "output_type": "stream",
     "text": [
      "WARNING: Logging before flag parsing goes to stderr.\n",
      "W1109 22:14:41.950869 10768 deprecation_wrapper.py:119] From C:\\Users\\wer29\\Anaconda3\\envs\\keras\\lib\\site-packages\\keras\\backend\\tensorflow_backend.py:74: The name tf.get_default_graph is deprecated. Please use tf.compat.v1.get_default_graph instead.\n",
      "\n",
      "W1109 22:14:42.009711 10768 deprecation_wrapper.py:119] From C:\\Users\\wer29\\Anaconda3\\envs\\keras\\lib\\site-packages\\keras\\backend\\tensorflow_backend.py:519: The name tf.placeholder is deprecated. Please use tf.compat.v1.placeholder instead.\n",
      "\n",
      "W1109 22:14:42.026664 10768 deprecation_wrapper.py:119] From C:\\Users\\wer29\\Anaconda3\\envs\\keras\\lib\\site-packages\\keras\\backend\\tensorflow_backend.py:4140: The name tf.random_uniform is deprecated. Please use tf.random.uniform instead.\n",
      "\n",
      "W1109 22:14:42.083514 10768 deprecation_wrapper.py:119] From C:\\Users\\wer29\\Anaconda3\\envs\\keras\\lib\\site-packages\\keras\\backend\\tensorflow_backend.py:3978: The name tf.nn.max_pool is deprecated. Please use tf.nn.max_pool2d instead.\n",
      "\n"
     ]
    },
    {
     "name": "stdout",
     "output_type": "stream",
     "text": [
      "_________________________________________________________________\n",
      "Layer (type)                 Output Shape              Param #   \n",
      "=================================================================\n",
      "conv2d_1 (Conv2D)            (None, 70, 88, 32)        896       \n",
      "_________________________________________________________________\n",
      "max_pooling2d_1 (MaxPooling2 (None, 35, 44, 32)        0         \n",
      "_________________________________________________________________\n",
      "conv2d_2 (Conv2D)            (None, 33, 42, 64)        18496     \n",
      "_________________________________________________________________\n",
      "max_pooling2d_2 (MaxPooling2 (None, 16, 21, 64)        0         \n",
      "_________________________________________________________________\n",
      "flatten_1 (Flatten)          (None, 21504)             0         \n",
      "_________________________________________________________________\n",
      "dense_1 (Dense)              (None, 128)               2752640   \n",
      "_________________________________________________________________\n",
      "dense_2 (Dense)              (None, 64)                8256      \n",
      "_________________________________________________________________\n",
      "dense_3 (Dense)              (None, 8)                 520       \n",
      "=================================================================\n",
      "Total params: 2,780,808\n",
      "Trainable params: 2,780,808\n",
      "Non-trainable params: 0\n",
      "_________________________________________________________________\n"
     ]
    }
   ],
   "source": [
    "model = Sequential()\n",
    "model.add(Conv2D(32, kernel_size=(3,3), activation='relu', input_shape=(72,90,3)))\n",
    "model.add(MaxPooling2D(pool_size=(2,2)))\n",
    "model.add(Conv2D(64, (3,3), activation='relu'))\n",
    "model.add(MaxPooling2D(pool_size=(2,2)))\n",
    "\n",
    "model.add(Flatten())\n",
    "model.add(Dense(128, activation='relu'))\n",
    "model.add(Dense(64, activation='relu'))\n",
    "model.add(Dense(8, activation='softmax'))\n",
    "\n",
    "model.summary()"
   ]
  },
  {
   "cell_type": "code",
   "execution_count": 8,
   "metadata": {},
   "outputs": [
    {
     "name": "stderr",
     "output_type": "stream",
     "text": [
      "W1109 22:14:42.252095 10768 deprecation_wrapper.py:119] From C:\\Users\\wer29\\Anaconda3\\envs\\keras\\lib\\site-packages\\keras\\optimizers.py:790: The name tf.train.Optimizer is deprecated. Please use tf.compat.v1.train.Optimizer instead.\n",
      "\n",
      "W1109 22:14:42.309945 10768 deprecation_wrapper.py:119] From C:\\Users\\wer29\\Anaconda3\\envs\\keras\\lib\\site-packages\\keras\\backend\\tensorflow_backend.py:3297: The name tf.log is deprecated. Please use tf.math.log instead.\n",
      "\n",
      "W1109 22:14:42.511124 10768 deprecation.py:323] From C:\\Users\\wer29\\Anaconda3\\envs\\keras\\lib\\site-packages\\tensorflow\\python\\ops\\math_grad.py:1250: add_dispatch_support.<locals>.wrapper (from tensorflow.python.ops.array_ops) is deprecated and will be removed in a future version.\n",
      "Instructions for updating:\n",
      "Use tf.where in 2.0, which has the same broadcast rule as np.where\n",
      "W1109 22:14:42.659379 10768 deprecation_wrapper.py:119] From C:\\Users\\wer29\\Anaconda3\\envs\\keras\\lib\\site-packages\\keras\\backend\\tensorflow_backend.py:988: The name tf.assign_add is deprecated. Please use tf.compat.v1.assign_add instead.\n",
      "\n"
     ]
    },
    {
     "name": "stdout",
     "output_type": "stream",
     "text": [
      "Epoch 1/10\n",
      "20/20 [==============================] - 351s 18s/step - loss: 1.2353 - acc: 0.4858 - val_loss: 0.8120 - val_acc: 0.5700\n",
      "Epoch 2/10\n",
      "20/20 [==============================] - 345s 17s/step - loss: 0.7097 - acc: 0.6779 - val_loss: 0.6812 - val_acc: 0.6700\n",
      "Epoch 3/10\n",
      "20/20 [==============================] - 345s 17s/step - loss: 0.5897 - acc: 0.7423 - val_loss: 0.6496 - val_acc: 0.6500\n",
      "Epoch 4/10\n",
      "20/20 [==============================] - 333s 17s/step - loss: 0.5739 - acc: 0.7520 - val_loss: 0.6111 - val_acc: 0.7000\n",
      "Epoch 5/10\n",
      "20/20 [==============================] - 350s 18s/step - loss: 0.5157 - acc: 0.7817 - val_loss: 0.4342 - val_acc: 0.8100\n",
      "Epoch 6/10\n",
      "20/20 [==============================] - 348s 17s/step - loss: 0.4823 - acc: 0.7985 - val_loss: 0.4257 - val_acc: 0.8000\n",
      "Epoch 7/10\n",
      "20/20 [==============================] - 335s 17s/step - loss: 0.4491 - acc: 0.8088 - val_loss: 0.4269 - val_acc: 0.7900\n",
      "Epoch 8/10\n",
      "20/20 [==============================] - 329s 16s/step - loss: 0.4227 - acc: 0.8260 - val_loss: 0.5470 - val_acc: 0.7800\n",
      "Epoch 9/10\n",
      "20/20 [==============================] - 348s 17s/step - loss: 0.4183 - acc: 0.8202 - val_loss: 0.6021 - val_acc: 0.7100\n",
      "Epoch 10/10\n",
      "20/20 [==============================] - 343s 17s/step - loss: 0.4034 - acc: 0.8262 - val_loss: 0.4919 - val_acc: 0.7800\n"
     ]
    }
   ],
   "source": [
    "model.compile(loss='categorical_crossentropy',\n",
    "              optimizer='adam',\n",
    "              metrics=['acc'])\n",
    "\n",
    "history = model.fit_generator(train_generator,\n",
    "                              steps_per_epoch=20,\n",
    "                              epochs=10,\n",
    "                              validation_data=test_generator,\n",
    "                              validation_steps=100)"
   ]
  },
  {
   "cell_type": "code",
   "execution_count": 54,
   "metadata": {},
   "outputs": [
    {
     "data": {
      "text/plain": [
       "{0: 'dyed-lifted-polyps',\n",
       " 1: 'dyed-resection-margins',\n",
       " 2: 'esophagitis',\n",
       " 3: 'normal-cecum',\n",
       " 4: 'normal-pylorus',\n",
       " 5: 'normal-z-line',\n",
       " 6: 'polyps',\n",
       " 7: 'ulcerative-colitis'}"
      ]
     },
     "execution_count": 54,
     "metadata": {},
     "output_type": "execute_result"
    }
   ],
   "source": [
    "class_idx = list(np.arange(8))\n",
    "class_label = {}\n",
    "\n",
    "for i in range(8):\n",
    "    class_label[class_idx[i]] = categories[i]\n",
    "class_label"
   ]
  },
  {
   "cell_type": "code",
   "execution_count": 55,
   "metadata": {},
   "outputs": [
    {
     "name": "stdout",
     "output_type": "stream",
     "text": [
      "[0.5071567291409508, 0.7725]\n"
     ]
    }
   ],
   "source": [
    "scores = model.evaluate_generator(test_generator, steps=800)\n",
    "print(scores)"
   ]
  },
  {
   "cell_type": "code",
   "execution_count": 63,
   "metadata": {},
   "outputs": [
    {
     "name": "stdout",
     "output_type": "stream",
     "text": [
      "[3 6 0 2 1 4 2 1 4 6 3 2 0 4 0 7 4 6 5 0 4 1 7 7 7 1 5 0 4 6 3 2 0 4 2 6 3\n",
      " 6 6 3 7 4 5 4 2 0 0 6 1 4 3 0 7 7 7 4 1 6 4 5 2 0 3 5 7 1 1 1 3 1 4 2 1 7\n",
      " 1 7 5 0 0 2 6 1 5 2 1 3 3 4 2 3 5 5 4 3 3 7 4 7 4 5 7 6 1 2 4 3 2 4 0 0 6\n",
      " 7 4 5 1 3 3 6 5 3 2 6 3 3 0 1 0 6 2 1 2 0 3 5 7 4 4 2 5 7 1 0 5 7 1 3 5 2\n",
      " 2 2 2 4 1 3 1 3 6 4 6 7 2 4 2 0 6 5 1 0 3 1 1 3 1 3 1 2 5 2 7 2 1 3 5 3 4\n",
      " 2 1 3 2 6 1 2 1 3 7 1 0 5 3 4 1 7 0 6 2 1 3 2 0 4 0 5 4 6 1 3 1 2 1 7 3 4\n",
      " 1 1 4 4 3 2 1 3 4 7 7 2 2 7 0 6 2 7 6 4 3 3 7 7 0 7 1 4 0 7 7 5 5 5 6 4 6\n",
      " 3 1 2 3 4 3 3 6 5 5 3 0 2 3 4 6 1 0 2 4 4 3 2 6 3 2 2 7 5 6 4 1 0 2 1 5 3\n",
      " 1 7 2 3 2 4 7 3 4 4 4 3 5 2 5 0 2 5 7 1 2 4 1 5 1 0 1 4 3 3 6 0 4 6 7 3 7\n",
      " 0 3 2 0 5 2 0 3 5 0 1 1 1 7 5 3 0 2 5 4 7 0 4 2 4 4 6 5 3 3 1 7 3 5 3 0 0\n",
      " 5 7 5 5 7 3 3 6 3 2 2 5 1 3 1 7 1 1 7 5 7 4 2 1 5 5 1 2 7 5 4 7 6 4 6 7 4\n",
      " 7 2 3 6 7 4 3 0 4 3 1 2 0 2 0 5 2 6 7 7 5 7 4 3 0 5 5 6 3 1 3 7 1 7 7 6 1\n",
      " 5 2 2 6 6 3 1 6 7 2 3 1 3 7 1 1 3 4 1 4 4 2 4 1 5 4 3 1 0 6 1 1 3 6 1 2 7\n",
      " 4 1 6 7 3 4 3 0 1 0 2 2 6 0 2 1 1 6 5 3 1 3 7 3 2 7 3 0 4 3 7 5 0 4 2 7 1\n",
      " 7 0 4 2 0 1 3 6 2 2 5 6 0 4 3 3 5 5 2 5 4 5 1 1 4 4 3 5 3 4 6 6 3 5 7 2 2\n",
      " 5 3 1 0 4 4 2 6 7 0 7 1 4 2 1 4 2 1 4 7 3 3 1 4 1 7 6 0 3 1 3 5 5 0 5 5 7\n",
      " 7 2 0 4 4 3 3 5 1 4 5 2 7 4 2 5 7 2 6 6 5 4 2 1 1 7 4 4 3 7 1 7 6 2 1 1 1\n",
      " 5 4 0 7 6 4 0 7 3 4 1 1 7 1 3 1 3 1 4 2 4 6 0 5 1 6 7 4 2 7 5 2 7 0 4 7 3\n",
      " 6 3 1 2 4 4 4 3 3 1 7 3 5 4 7 4 6 2 2 0 0 1 3 0 1 6 5 2 3 1 0 3 6 3 3 4 4\n",
      " 0 6 0 3 7 3 6 2 7 3 3 5 0 7 3 1 6 7 4 4 1 1 7 5 7 2 4 5 5 4 5 2 0 4 5 2 4\n",
      " 6 5 3 5 0 7 0 0 6 5 0 1 0 3 6 0 1 7 6 6 0 6 6 0 5 2 1 2 5 3 0 7 2 0 2 1 4\n",
      " 0 1 0 2 1 3 1 3 6 7 2 1 3 6 5 0 0 2 5 5 0 1 4]\n"
     ]
    }
   ],
   "source": [
    "y_predict = model.predict_generator(test_generator, steps=800)\n",
    "predicted_class = np.argmax(y_predict, axis=1)\n",
    "print(predicted_class)"
   ]
  },
  {
   "cell_type": "code",
   "execution_count": 112,
   "metadata": {},
   "outputs": [
    {
     "name": "stdout",
     "output_type": "stream",
     "text": [
      "100 번째를 예측한 내시경 영상 :  [0, 0, 0, 0, 0, 0, 0, 1]\n"
     ]
    }
   ],
   "source": [
    "predictions = [class_label[k] for k in predicted_class]\n",
    "def pred_class(i):\n",
    "    print(i, '번째를 예측한 내시경 영상 : ', predictions[i])\n",
    "pred_class(100)\n",
    "\n",
    "# test data의 진짜 정답으로 추정되는 것\n",
    "# 800번째 이미지의 진짜 레이블로 추정되는 것...\n",
    "# test_generator[799]하면 이미지 배열 + 레이블이 나옴\n",
    "def check(j):\n",
    "    print(test_generator[j][1])\n",
    "    print(pred_class(j))"
   ]
  },
  {
   "cell_type": "code",
   "execution_count": null,
   "metadata": {},
   "outputs": [],
   "source": [
    "from keras.models import load_model\n",
    "model.save('kvasir_v2.h5')\n",
    "#model = load_model('kvasir_v2.h5')"
   ]
  }
 ],
 "metadata": {
  "kernelspec": {
   "display_name": "Python 3",
   "language": "python",
   "name": "python3"
  },
  "language_info": {
   "codemirror_mode": {
    "name": "ipython",
    "version": 3
   },
   "file_extension": ".py",
   "mimetype": "text/x-python",
   "name": "python",
   "nbconvert_exporter": "python",
   "pygments_lexer": "ipython3",
   "version": "3.7.4"
  }
 },
 "nbformat": 4,
 "nbformat_minor": 2
}
